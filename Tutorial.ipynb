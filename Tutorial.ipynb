{
 "cells": [
  {
   "cell_type": "code",
   "execution_count": null,
   "id": "78764b2c",
   "metadata": {},
   "outputs": [],
   "source": [
    "import sys\n",
    "sys.path.append('src')\n",
    "import cna_tool\n",
    "from cna_tool import infer_cnas_from_scrna"
   ]
  },
  {
   "cell_type": "code",
   "execution_count": 5,
   "id": "4e2e73c2",
   "metadata": {},
   "outputs": [],
   "source": [
    "from cna_tool import CNAInferer"
   ]
  },
  {
   "cell_type": "code",
   "execution_count": 6,
   "id": "7abed734",
   "metadata": {},
   "outputs": [
    {
     "name": "stdout",
     "output_type": "stream",
     "text": [
      "Help on class CNAInferer in module cna_tool.cna_inference:\n",
      "\n",
      "class CNAInferer(builtins.object)\n",
      " |  CNAInferer(adata, control_adata, gtf_df: pandas.core.frame.DataFrame = None, window=50, gain_thr=0.2, loss_thr=-0.2, norm_method='log2_ratio')\n",
      " |  \n",
      " |  Methods defined here:\n",
      " |  \n",
      " |  __init__(self, adata, control_adata, gtf_df: pandas.core.frame.DataFrame = None, window=50, gain_thr=0.2, loss_thr=-0.2, norm_method='log2_ratio')\n",
      " |      Initializes the CNAInferer with test and control datasets and preprocessing parameters.\n",
      " |      \n",
      " |      Parameters:\n",
      " |      - adata: AnnData object representing the test cells to be analyzed.\n",
      " |      - control_adata: AnnData object with control/reference cells.\n",
      " |      - gtf_df: Optional pandas DataFrame containing gene coordinate annotations\n",
      " |                with columns like 'gene_name', 'chromosome', 'start', 'end'.\n",
      " |      - window: Integer, size of the smoothing window for signal processing.\n",
      " |      - gain_thr: Float, threshold above which a region is considered a copy number gain.\n",
      " |      - loss_thr: Float, threshold below which a region is considered a copy number loss.\n",
      " |      - norm_method: Method used to normalize expression between test and control\n",
      " |                     (e.g., 'log2_ratio').\n",
      " |  \n",
      " |  infer(self)\n",
      " |      Perform copy number alteration (CNA) inference on the input AnnData object.\n",
      " |      \n",
      " |      Steps:\n",
      " |      - Normalize gene expression between test and control cells.\n",
      " |      - Identify genome segments with potential CNAs using a sliding window.\n",
      " |      - For each cell, determine which CNA segments are active based on mean expression.\n",
      " |      - Store CNA profile strings in `adata.obs['cna_profile']`.\n",
      " |      \n",
      " |      Returns:\n",
      " |      - Updated AnnData object with CNA calls stored in `.obs['cna_profile']`\n",
      " |      and CNA segment definitions in `.uns['cna_segments']`.\n",
      " |  \n",
      " |  ----------------------------------------------------------------------\n",
      " |  Data descriptors defined here:\n",
      " |  \n",
      " |  __dict__\n",
      " |      dictionary for instance variables (if defined)\n",
      " |  \n",
      " |  __weakref__\n",
      " |      list of weak references to the object (if defined)\n",
      "\n"
     ]
    }
   ],
   "source": [
    "help(CNAInferer)"
   ]
  }
 ],
 "metadata": {
  "kernelspec": {
   "display_name": "OneSC_run",
   "language": "python",
   "name": "python3"
  },
  "language_info": {
   "codemirror_mode": {
    "name": "ipython",
    "version": 3
   },
   "file_extension": ".py",
   "mimetype": "text/x-python",
   "name": "python",
   "nbconvert_exporter": "python",
   "pygments_lexer": "ipython3",
   "version": "3.9.21"
  }
 },
 "nbformat": 4,
 "nbformat_minor": 5
}
