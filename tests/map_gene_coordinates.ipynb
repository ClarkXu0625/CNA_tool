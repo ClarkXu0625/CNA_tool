{
 "cells": [
  {
   "cell_type": "code",
   "execution_count": 1,
   "id": "3dbc7e87",
   "metadata": {},
   "outputs": [
    {
     "name": "stderr",
     "output_type": "stream",
     "text": [
      "c:\\Users\\clark\\anaconda3\\envs\\OneSC_run\\lib\\site-packages\\tqdm\\auto.py:21: TqdmWarning: IProgress not found. Please update jupyter and ipywidgets. See https://ipywidgets.readthedocs.io/en/stable/user_install.html\n",
      "  from .autonotebook import tqdm as notebook_tqdm\n"
     ]
    }
   ],
   "source": [
    "import scanpy as sc\n",
    "from pathlib import Path\n",
    "import tarfile\n",
    "import pySingleCellNet as cn\n",
    "import anndata as ad\n",
    "import sys\n",
    "sys.path.append('../src')\n",
    "\n",
    "#from preprocessing import annotation_preprocess\n",
    "import pandas as pd\n",
    "import scanpy as sc\n",
    "import numpy as np\n",
    "import matplotlib.pyplot as plt\n",
    "import seaborn as sns\n",
    "\n",
    "import cna_tool\n",
    "from cna_tool import CNAInferer  # assuming this contains your working class\n",
    "from cna_tool.utils import select_control_mask, map_gene_coordinates\n",
    "from cna_tool.infer import infer_cnas_from_scrna\n",
    "from cna_tool.tl import run_cna_evaluation\n",
    "from cna_tool.cna_inference import test_pipeline_on_slice\n",
    "from mygene import MyGeneInfo\n",
    "from cna_tool.preprocessing import simple_preprocess"
   ]
  },
  {
   "cell_type": "code",
   "execution_count": 48,
   "id": "60cf657f",
   "metadata": {},
   "outputs": [
    {
     "name": "stderr",
     "output_type": "stream",
     "text": [
      "c:\\Users\\clark\\anaconda3\\envs\\OneSC_run\\lib\\site-packages\\anndata\\_core\\anndata.py:1754: UserWarning: Observation names are not unique. To make them unique, call `.obs_names_make_unique`.\n",
      "  utils.warn_names_duplicates(\"obs\")\n"
     ]
    }
   ],
   "source": [
    "adata_test = ad.read_h5ad('../data/test_adata.h5ad')\n",
    "adata7 = ad.read_h5ad('../data/num7_adata.h5ad')\n",
    "adata4 = ad.read_h5ad('../data/num4_adata.h5ad')\n",
    "adata3 = ad.read_h5ad('../data/num3_adata.h5ad')\n",
    "adata6 = ad.read_h5ad('../data/num6_adata.h5ad')\n"
   ]
  },
  {
   "cell_type": "code",
   "execution_count": 49,
   "id": "ee13beea",
   "metadata": {},
   "outputs": [
    {
     "name": "stdout",
     "output_type": "stream",
     "text": [
      "Numer of genes in dataset: 36601\n",
      "Number of common genes: 19501\n"
     ]
    }
   ],
   "source": [
    "adata7 = cna_tool.preprocessing.simple_preprocess(adata7)\n",
    "adata7.var[\"gene_name\"] = adata7.var_names\n",
    "adata7.obs[\"cell_type\"] = \"unknown\"\n",
    "adata7 = cna_tool.utils.map_gene_coordinates(adata7, adata_test)\n",
    "adata7_filtered = adata7[:, ~adata7.var['chromosome'].isna()].copy()\n",
    "adata7_filtered.write_h5ad('../data/preprocessed_data/num7_adata_filtered.h5ad')\n"
   ]
  },
  {
   "cell_type": "code",
   "execution_count": 50,
   "id": "36194919",
   "metadata": {},
   "outputs": [
    {
     "name": "stdout",
     "output_type": "stream",
     "text": [
      "Numer of genes in dataset: 45068\n",
      "Number of common genes: 20104\n"
     ]
    }
   ],
   "source": [
    "adata6 = cna_tool.preprocessing.simple_preprocess(adata6)\n",
    "adata6.var[\"gene_name\"] = adata6.var_names\n",
    "adata6.obs[\"cell_type\"] = \"unknown\"\n",
    "adata6 = cna_tool.utils.map_gene_coordinates(adata6, adata_test)\n",
    "adata6_filtered = adata6[:, ~adata6.var['chromosome'].isna()].copy()\n",
    "adata6_filtered.write_h5ad('../data/preprocessed_data/num6_adata_filtered.h5ad')"
   ]
  },
  {
   "cell_type": "code",
   "execution_count": 51,
   "id": "feeca477",
   "metadata": {},
   "outputs": [
    {
     "name": "stderr",
     "output_type": "stream",
     "text": [
      "c:\\Users\\clark\\anaconda3\\envs\\OneSC_run\\lib\\site-packages\\scanpy\\preprocessing\\_normalization.py:234: UserWarning: Some cells have zero counts\n",
      "  warn(UserWarning(\"Some cells have zero counts\"))\n"
     ]
    },
    {
     "name": "stdout",
     "output_type": "stream",
     "text": [
      "Numer of genes in dataset: 37494\n"
     ]
    },
    {
     "name": "stderr",
     "output_type": "stream",
     "text": [
      "c:\\Users\\clark\\anaconda3\\envs\\OneSC_run\\lib\\site-packages\\anndata\\_core\\anndata.py:1754: UserWarning: Observation names are not unique. To make them unique, call `.obs_names_make_unique`.\n",
      "  utils.warn_names_duplicates(\"obs\")\n"
     ]
    },
    {
     "name": "stdout",
     "output_type": "stream",
     "text": [
      "Number of common genes: 19302\n"
     ]
    },
    {
     "name": "stderr",
     "output_type": "stream",
     "text": [
      "c:\\Users\\clark\\anaconda3\\envs\\OneSC_run\\lib\\site-packages\\anndata\\_core\\anndata.py:1754: UserWarning: Observation names are not unique. To make them unique, call `.obs_names_make_unique`.\n",
      "  utils.warn_names_duplicates(\"obs\")\n"
     ]
    }
   ],
   "source": [
    "adata3 = cna_tool.preprocessing.simple_preprocess(adata3)\n",
    "adata3.var[\"gene_name\"] = adata3.var_names\n",
    "adata3.obs[\"cell_type\"] = \"unknown\"\n",
    "adata3 = cna_tool.utils.map_gene_coordinates(adata3, adata_test)\n",
    "adata3_filtered = adata3[:, ~adata3.var['chromosome'].isna()].copy()\n",
    "adata3_filtered.write_h5ad('../data/preprocessed_data/num3_adata_filtered.h5ad')"
   ]
  },
  {
   "cell_type": "markdown",
   "id": "008fdded",
   "metadata": {},
   "source": [
    "# Dataset 4 needs to process differently"
   ]
  },
  {
   "cell_type": "code",
   "execution_count": 53,
   "id": "fcedc31d",
   "metadata": {},
   "outputs": [
    {
     "name": "stdout",
     "output_type": "stream",
     "text": [
      "Numer of genes in dataset: 36601\n",
      "Number of common genes: 19495\n",
      "Numer of genes in dataset: 32285\n",
      "Number of common genes: 9\n"
     ]
    }
   ],
   "source": [
    "adata4 = ad.read_h5ad('../data/num4_adata.h5ad')\n",
    "adata4 = cna_tool.preprocessing.simple_preprocess(adata4)\n",
    "adata4.var[\"gene_name\"] = adata4.var_names\n",
    "adata4.obs[\"cell_type\"] = \"unknown\"\n",
    "\n",
    "# Convert to string to avoid errors\n",
    "adata4.var['gene_name'] = adata4.var['gene_name'].astype(str)\n",
    "\n",
    "# Masks for human and mouse genes\n",
    "human_mask = adata4.var['gene_name'].str.startswith('GRCh38_')\n",
    "mouse_mask = adata4.var['gene_name'].str.startswith('mm10')\n",
    "\n",
    "# Create separate AnnData objects\n",
    "adata4_human = adata4[:, human_mask].copy()\n",
    "adata4_mouse = adata4[:, mouse_mask].copy()\n",
    "adata4_human.var['gene_name'] = adata4_human.var['gene_name'].str.replace('^GRCh38_', '', regex=True)\n",
    "adata4_human.var_names = adata4_human.var[\"gene_name\"]\n",
    "adata4_mouse.var['gene_name'] = adata4_mouse.var['gene_name'].str.replace('^mm10___', '', regex=True)\n",
    "adata4_mouse.var_names = adata4_mouse.var[\"gene_name\"]\n",
    "\n",
    "adata4_human = cna_tool.utils.map_gene_coordinates(adata4_human, adata_test)\n",
    "adata4_mouse = cna_tool.utils.map_gene_coordinates(adata4_mouse, adata_test)\n",
    "\n",
    "# write\n",
    "adata4_human_filtered = adata4_human[:, ~adata4_human.var['chromosome'].isna()].copy()\n",
    "adata4_human_filtered.write_h5ad('../data/preprocessed_data/num4_human_adata_filtered.h5ad')\n",
    "adata4_mouse_filtered = adata4_mouse[:, ~adata4_mouse.var['chromosome'].isna()].copy()\n",
    "adata4_mouse_filtered.write_h5ad('../data/preprocessed_data/num4_mouse_adata_filtered.h5ad')"
   ]
  },
  {
   "cell_type": "code",
   "execution_count": 54,
   "id": "f64465c8",
   "metadata": {},
   "outputs": [
    {
     "data": {
      "text/html": [
       "<div>\n",
       "<style scoped>\n",
       "    .dataframe tbody tr th:only-of-type {\n",
       "        vertical-align: middle;\n",
       "    }\n",
       "\n",
       "    .dataframe tbody tr th {\n",
       "        vertical-align: top;\n",
       "    }\n",
       "\n",
       "    .dataframe thead th {\n",
       "        text-align: right;\n",
       "    }\n",
       "</style>\n",
       "<table border=\"1\" class=\"dataframe\">\n",
       "  <thead>\n",
       "    <tr style=\"text-align: right;\">\n",
       "      <th></th>\n",
       "      <th>gene_name</th>\n",
       "      <th>chromosome</th>\n",
       "      <th>start</th>\n",
       "      <th>end</th>\n",
       "    </tr>\n",
       "    <tr>\n",
       "      <th>gene_name</th>\n",
       "      <th></th>\n",
       "      <th></th>\n",
       "      <th></th>\n",
       "      <th></th>\n",
       "    </tr>\n",
       "  </thead>\n",
       "  <tbody>\n",
       "    <tr>\n",
       "      <th>MIR1302-2HG</th>\n",
       "      <td>MIR1302-2HG</td>\n",
       "      <td>NaN</td>\n",
       "      <td>NaN</td>\n",
       "      <td>NaN</td>\n",
       "    </tr>\n",
       "    <tr>\n",
       "      <th>FAM138A</th>\n",
       "      <td>FAM138A</td>\n",
       "      <td>NaN</td>\n",
       "      <td>NaN</td>\n",
       "      <td>NaN</td>\n",
       "    </tr>\n",
       "    <tr>\n",
       "      <th>OR4F5</th>\n",
       "      <td>OR4F5</td>\n",
       "      <td>NaN</td>\n",
       "      <td>NaN</td>\n",
       "      <td>NaN</td>\n",
       "    </tr>\n",
       "    <tr>\n",
       "      <th>AL627309.1</th>\n",
       "      <td>AL627309.1</td>\n",
       "      <td>NaN</td>\n",
       "      <td>NaN</td>\n",
       "      <td>NaN</td>\n",
       "    </tr>\n",
       "    <tr>\n",
       "      <th>AL627309.3</th>\n",
       "      <td>AL627309.3</td>\n",
       "      <td>1</td>\n",
       "      <td>89551.0</td>\n",
       "      <td>91105.0</td>\n",
       "    </tr>\n",
       "    <tr>\n",
       "      <th>...</th>\n",
       "      <td>...</td>\n",
       "      <td>...</td>\n",
       "      <td>...</td>\n",
       "      <td>...</td>\n",
       "    </tr>\n",
       "    <tr>\n",
       "      <th>AC141272.1</th>\n",
       "      <td>AC141272.1</td>\n",
       "      <td>NaN</td>\n",
       "      <td>NaN</td>\n",
       "      <td>NaN</td>\n",
       "    </tr>\n",
       "    <tr>\n",
       "      <th>AC023491.2</th>\n",
       "      <td>AC023491.2</td>\n",
       "      <td>NaN</td>\n",
       "      <td>NaN</td>\n",
       "      <td>NaN</td>\n",
       "    </tr>\n",
       "    <tr>\n",
       "      <th>AC007325.1</th>\n",
       "      <td>AC007325.1</td>\n",
       "      <td>NaN</td>\n",
       "      <td>NaN</td>\n",
       "      <td>NaN</td>\n",
       "    </tr>\n",
       "    <tr>\n",
       "      <th>AC007325.4</th>\n",
       "      <td>AC007325.4</td>\n",
       "      <td>KI270734.1</td>\n",
       "      <td>131494.0</td>\n",
       "      <td>137392.0</td>\n",
       "    </tr>\n",
       "    <tr>\n",
       "      <th>AC007325.2</th>\n",
       "      <td>AC007325.2</td>\n",
       "      <td>NaN</td>\n",
       "      <td>NaN</td>\n",
       "      <td>NaN</td>\n",
       "    </tr>\n",
       "  </tbody>\n",
       "</table>\n",
       "<p>36601 rows × 4 columns</p>\n",
       "</div>"
      ],
      "text/plain": [
       "               gene_name  chromosome     start       end\n",
       "gene_name                                               \n",
       "MIR1302-2HG  MIR1302-2HG         NaN       NaN       NaN\n",
       "FAM138A          FAM138A         NaN       NaN       NaN\n",
       "OR4F5              OR4F5         NaN       NaN       NaN\n",
       "AL627309.1    AL627309.1         NaN       NaN       NaN\n",
       "AL627309.3    AL627309.3           1   89551.0   91105.0\n",
       "...                  ...         ...       ...       ...\n",
       "AC141272.1    AC141272.1         NaN       NaN       NaN\n",
       "AC023491.2    AC023491.2         NaN       NaN       NaN\n",
       "AC007325.1    AC007325.1         NaN       NaN       NaN\n",
       "AC007325.4    AC007325.4  KI270734.1  131494.0  137392.0\n",
       "AC007325.2    AC007325.2         NaN       NaN       NaN\n",
       "\n",
       "[36601 rows x 4 columns]"
      ]
     },
     "execution_count": 54,
     "metadata": {},
     "output_type": "execute_result"
    }
   ],
   "source": [
    "adata4_human.var"
   ]
  },
  {
   "cell_type": "code",
   "execution_count": null,
   "id": "b9b6b1be",
   "metadata": {},
   "outputs": [],
   "source": [
    "\n",
    "def load_gtf_as_dataframe(gtf_file):\n",
    "    rows = []\n",
    "    with open(gtf_file, 'r') as f:\n",
    "        for line in f:\n",
    "            if line.startswith(\"#\"):\n",
    "                continue\n",
    "            fields = line.strip().split('\\t')\n",
    "            if fields[2] != 'gene':\n",
    "                continue\n",
    "            chrom, source, feature, start, end, score, strand, frame, attr = fields\n",
    "            info = {k: v.strip('\"') for k, v in \n",
    "                    [field.strip().split(' ')[:2] for field in attr.strip(';').split(';') if field]}\n",
    "            rows.append({\n",
    "                'gene_name': info.get('gene_name'),\n",
    "                'gene_id': info.get('gene_id'),\n",
    "                'chromosome': chrom.replace('chr', ''),\n",
    "                'start': int(start),\n",
    "                'end': int(end)\n",
    "            })\n",
    "    return pd.DataFrame(rows)\n",
    "\n",
    "gtf_df = load_gtf_as_dataframe(\"gencode.v47.chr_patch_hapl_scaff.annotation.gtf\")"
   ]
  },
  {
   "cell_type": "code",
   "execution_count": 33,
   "id": "39c4e913",
   "metadata": {},
   "outputs": [],
   "source": [
    "def fetch_gene_coordinates_via_mygene(adata, species='human'):\n",
    "    mg = MyGeneInfo()\n",
    "    gene_names = adata.var['gene_name'].astype(str).unique().tolist()\n",
    "\n",
    "    print(f\"Querying {len(gene_names)} genes from mygene.info...\")\n",
    "    results = mg.querymany(gene_names, scopes='symbol', fields='genomic_pos', species=species, as_dataframe=True)\n",
    "    results = results[~results.index.duplicated(keep='first')]  # remove duplicate matches\n",
    "\n",
    "    def get_coord(gene, field):\n",
    "        try:\n",
    "            val = results.loc[gene, 'genomic_pos']\n",
    "            if isinstance(val, dict):\n",
    "                return val.get(field)\n",
    "            elif isinstance(val, list) and isinstance(val[0], dict):\n",
    "                return val[0].get(field)\n",
    "            else:\n",
    "                return None\n",
    "        except Exception:\n",
    "            return None\n",
    "\n",
    "    adata.var['chromosome'] = adata.var['gene_name'].map(lambda g: get_coord(g, 'chr'))\n",
    "    adata.var['start'] = adata.var['gene_name'].map(lambda g: get_coord(g, 'start'))\n",
    "    adata.var['end'] = adata.var['gene_name'].map(lambda g: get_coord(g, 'end'))\n",
    "\n",
    "    return adata\n"
   ]
  },
  {
   "cell_type": "code",
   "execution_count": 44,
   "id": "6e72f5f8",
   "metadata": {},
   "outputs": [],
   "source": [
    "def gene_info(gtf_df, adata):\n",
    "\n",
    "    #adata.var['gene_name'] = adata.var.index\n",
    "\n",
    "    # Fetch gene coordinates using mygene\n",
    "    adata = fetch_gene_coordinates_via_mygene(adata)\n",
    "    print(adata.var[['gene_name', 'chromosome', 'start', 'end']].head(10))\n",
    "    print(\"Missing values:\", adata.var[['chromosome', 'start', 'end']].isna().sum())\n",
    "    print(\"done fetching ...\")\n",
    "\n",
    "    # merge gene coordinates with GTF\n",
    "    # Step 1: Copy and reset gene_name\n",
    "    merged = adata.var.copy()\n",
    "    merged['gene_name'] = merged.index.astype(str)\n",
    "\n",
    "    # Step 2: Merge with GTF\n",
    "    merged = merged.merge(gtf_df, on='gene_name', how='left')\n",
    "\n",
    "    # Step 3: Drop duplicates (if merge resulted in more rows)\n",
    "    merged = merged.drop_duplicates(subset='gene_name', keep='first')\n",
    "\n",
    "    # Step 4: Align merged index with adata.var\n",
    "    merged = merged.set_index('gene_name')\n",
    "    merged = merged.loc[adata.var.index]  # ensure same order and rows\n",
    "\n",
    "    # Step 5: Assign to adata.var\n",
    "    adata.var['chromosome'] = merged['chromosome_y'].fillna(merged['chromosome_x'])\n",
    "    adata.var['start'] = merged['start_y'].fillna(merged['start_x'])\n",
    "    adata.var['end'] = merged['end_y'].fillna(merged['end_x'])\n",
    "\n",
    "    print(adata.var[['chromosome', 'start', 'end']].isna().sum())\n",
    "    return adata"
   ]
  },
  {
   "cell_type": "code",
   "execution_count": 46,
   "id": "841e9f81",
   "metadata": {},
   "outputs": [
    {
     "name": "stderr",
     "output_type": "stream",
     "text": [
      "Input sequence provided is already in string format. No operation performed\n",
      "Input sequence provided is already in string format. No operation performed\n"
     ]
    },
    {
     "name": "stdout",
     "output_type": "stream",
     "text": [
      "Querying 32285 genes from mygene.info...\n"
     ]
    },
    {
     "name": "stderr",
     "output_type": "stream",
     "text": [
      "104 input query terms found dup hits:\t[('Snhg6', 2), ('Dnajb3', 2), ('Dnm3os', 2), ('Mptx1', 3), ('Nron', 2), ('Tmco5b', 2), ('Mir124-2hg'\n",
      "16249 input query terms found no hit:\t['Gm1992', 'Gm19938', 'Gm37381', 'Gm37587', 'Gm37323', 'Gm16041', '4732440D04Rik', 'Gm26901', 'Gm304\n"
     ]
    },
    {
     "name": "stdout",
     "output_type": "stream",
     "text": [
      "               gene_name chromosome  start  end\n",
      "mm10___Xkr4         Xkr4       None    NaN  NaN\n",
      "mm10___Gm1992     Gm1992       None    NaN  NaN\n",
      "mm10___Gm19938   Gm19938       None    NaN  NaN\n",
      "mm10___Gm37381   Gm37381       None    NaN  NaN\n",
      "mm10___Rp1           Rp1       None    NaN  NaN\n",
      "mm10___Sox17       Sox17       None    NaN  NaN\n",
      "mm10___Gm37587   Gm37587       None    NaN  NaN\n",
      "mm10___Gm37323   Gm37323       None    NaN  NaN\n",
      "mm10___Mrpl15     Mrpl15       None    NaN  NaN\n",
      "mm10___Lypla1     Lypla1       None    NaN  NaN\n",
      "Missing values: chromosome    31258\n",
      "start         31258\n",
      "end           31258\n",
      "dtype: int64\n",
      "done fetching ...\n",
      "chromosome    31258\n",
      "start         31258\n",
      "end           31258\n",
      "dtype: int64\n"
     ]
    }
   ],
   "source": [
    "adata4_mouse = gene_info(gtf_df, adata4_mouse)"
   ]
  },
  {
   "cell_type": "code",
   "execution_count": 32,
   "id": "8edbf90d",
   "metadata": {},
   "outputs": [
    {
     "data": {
      "text/html": [
       "<div>\n",
       "<style scoped>\n",
       "    .dataframe tbody tr th:only-of-type {\n",
       "        vertical-align: middle;\n",
       "    }\n",
       "\n",
       "    .dataframe tbody tr th {\n",
       "        vertical-align: top;\n",
       "    }\n",
       "\n",
       "    .dataframe thead th {\n",
       "        text-align: right;\n",
       "    }\n",
       "</style>\n",
       "<table border=\"1\" class=\"dataframe\">\n",
       "  <thead>\n",
       "    <tr style=\"text-align: right;\">\n",
       "      <th></th>\n",
       "      <th>gene_name</th>\n",
       "      <th>chromosome</th>\n",
       "      <th>start</th>\n",
       "      <th>end</th>\n",
       "    </tr>\n",
       "  </thead>\n",
       "  <tbody>\n",
       "    <tr>\n",
       "      <th>mm10___Xkr4</th>\n",
       "      <td>mm10___Xkr4</td>\n",
       "      <td>NaN</td>\n",
       "      <td>NaN</td>\n",
       "      <td>NaN</td>\n",
       "    </tr>\n",
       "    <tr>\n",
       "      <th>mm10___Gm1992</th>\n",
       "      <td>mm10___Gm1992</td>\n",
       "      <td>NaN</td>\n",
       "      <td>NaN</td>\n",
       "      <td>NaN</td>\n",
       "    </tr>\n",
       "    <tr>\n",
       "      <th>mm10___Gm19938</th>\n",
       "      <td>mm10___Gm19938</td>\n",
       "      <td>NaN</td>\n",
       "      <td>NaN</td>\n",
       "      <td>NaN</td>\n",
       "    </tr>\n",
       "    <tr>\n",
       "      <th>mm10___Gm37381</th>\n",
       "      <td>mm10___Gm37381</td>\n",
       "      <td>NaN</td>\n",
       "      <td>NaN</td>\n",
       "      <td>NaN</td>\n",
       "    </tr>\n",
       "    <tr>\n",
       "      <th>mm10___Rp1</th>\n",
       "      <td>mm10___Rp1</td>\n",
       "      <td>NaN</td>\n",
       "      <td>NaN</td>\n",
       "      <td>NaN</td>\n",
       "    </tr>\n",
       "    <tr>\n",
       "      <th>...</th>\n",
       "      <td>...</td>\n",
       "      <td>...</td>\n",
       "      <td>...</td>\n",
       "      <td>...</td>\n",
       "    </tr>\n",
       "    <tr>\n",
       "      <th>mm10___AC124606.1</th>\n",
       "      <td>mm10___AC124606.1</td>\n",
       "      <td>NaN</td>\n",
       "      <td>NaN</td>\n",
       "      <td>NaN</td>\n",
       "    </tr>\n",
       "    <tr>\n",
       "      <th>mm10___AC133095.2</th>\n",
       "      <td>mm10___AC133095.2</td>\n",
       "      <td>NaN</td>\n",
       "      <td>NaN</td>\n",
       "      <td>NaN</td>\n",
       "    </tr>\n",
       "    <tr>\n",
       "      <th>mm10___AC133095.1</th>\n",
       "      <td>mm10___AC133095.1</td>\n",
       "      <td>NaN</td>\n",
       "      <td>NaN</td>\n",
       "      <td>NaN</td>\n",
       "    </tr>\n",
       "    <tr>\n",
       "      <th>mm10___AC234645.1</th>\n",
       "      <td>mm10___AC234645.1</td>\n",
       "      <td>NaN</td>\n",
       "      <td>NaN</td>\n",
       "      <td>NaN</td>\n",
       "    </tr>\n",
       "    <tr>\n",
       "      <th>mm10___AC149090.1</th>\n",
       "      <td>mm10___AC149090.1</td>\n",
       "      <td>NaN</td>\n",
       "      <td>NaN</td>\n",
       "      <td>NaN</td>\n",
       "    </tr>\n",
       "  </tbody>\n",
       "</table>\n",
       "<p>32285 rows × 4 columns</p>\n",
       "</div>"
      ],
      "text/plain": [
       "                           gene_name  chromosome  start  end\n",
       "mm10___Xkr4              mm10___Xkr4         NaN    NaN  NaN\n",
       "mm10___Gm1992          mm10___Gm1992         NaN    NaN  NaN\n",
       "mm10___Gm19938        mm10___Gm19938         NaN    NaN  NaN\n",
       "mm10___Gm37381        mm10___Gm37381         NaN    NaN  NaN\n",
       "mm10___Rp1                mm10___Rp1         NaN    NaN  NaN\n",
       "...                              ...         ...    ...  ...\n",
       "mm10___AC124606.1  mm10___AC124606.1         NaN    NaN  NaN\n",
       "mm10___AC133095.2  mm10___AC133095.2         NaN    NaN  NaN\n",
       "mm10___AC133095.1  mm10___AC133095.1         NaN    NaN  NaN\n",
       "mm10___AC234645.1  mm10___AC234645.1         NaN    NaN  NaN\n",
       "mm10___AC149090.1  mm10___AC149090.1         NaN    NaN  NaN\n",
       "\n",
       "[32285 rows x 4 columns]"
      ]
     },
     "execution_count": 32,
     "metadata": {},
     "output_type": "execute_result"
    }
   ],
   "source": [
    "adata4_mouse.var"
   ]
  }
 ],
 "metadata": {
  "kernelspec": {
   "display_name": "OneSC_run",
   "language": "python",
   "name": "python3"
  },
  "language_info": {
   "codemirror_mode": {
    "name": "ipython",
    "version": 3
   },
   "file_extension": ".py",
   "mimetype": "text/x-python",
   "name": "python",
   "nbconvert_exporter": "python",
   "pygments_lexer": "ipython3",
   "version": "3.9.21"
  }
 },
 "nbformat": 4,
 "nbformat_minor": 5
}
