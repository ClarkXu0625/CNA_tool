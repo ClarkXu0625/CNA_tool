{
 "cells": [
  {
   "cell_type": "code",
   "execution_count": null,
   "id": "3dbc7e87",
   "metadata": {},
   "outputs": [
    {
     "name": "stderr",
     "output_type": "stream",
     "text": [
      "c:\\Users\\clark\\anaconda3\\envs\\OneSC_run\\lib\\site-packages\\tqdm\\auto.py:21: TqdmWarning: IProgress not found. Please update jupyter and ipywidgets. See https://ipywidgets.readthedocs.io/en/stable/user_install.html\n",
      "  from .autonotebook import tqdm as notebook_tqdm\n"
     ]
    }
   ],
   "source": [
    "import scanpy as sc\n",
    "from pathlib import Path\n",
    "import tarfile\n",
    "import pySingleCellNet as cn\n",
    "import anndata as ad\n",
    "import sys\n",
    "sys.path.append('../src')\n",
    "\n",
    "#from preprocessing import annotation_preprocess\n",
    "import pandas as pd\n",
    "import scanpy as sc\n",
    "import numpy as np\n",
    "import matplotlib.pyplot as plt\n",
    "import seaborn as sns\n",
    "\n",
    "import cna_tool\n",
    "from cna_tool import CNAInferer  # assuming this contains your working class\n",
    "from cna_tool.utils import select_control_mask, map_gene_coordinates\n",
    "from cna_tool.infer import infer_cnas_from_scrna\n",
    "from cna_tool.tl import run_cna_evaluation\n",
    "from cna_tool.cna_inference import test_pipeline_on_slice\n",
    "from mygene import MyGeneInfo\n",
    "from cna_tool.preprocessing import simple_preprocess"
   ]
  },
  {
   "cell_type": "code",
   "execution_count": null,
   "id": "60cf657f",
   "metadata": {},
   "outputs": [],
   "source": [
    "adata_test = ad.read_h5ad('../data/test_adata.h5ad')\n",
    "adata7 = ad.read_h5ad('../data/num7_adata.h5ad')\n",
    "adata4 = ad.read_h5ad('../data/num4_adata.h5ad')\n",
    "adata3 = ad.read_h5ad('../data/num3_adata.h5ad')\n",
    "adata6 = ad.read_h5ad('../data/num6_adata.h5ad')\n"
   ]
  },
  {
   "cell_type": "code",
   "execution_count": 8,
   "id": "ee13beea",
   "metadata": {},
   "outputs": [
    {
     "name": "stdout",
     "output_type": "stream",
     "text": [
      "Number of common genes: 19501\n"
     ]
    }
   ],
   "source": [
    "adata7 = cna_tool.utils.map_gene_coordinates(adata7, adata_test)"
   ]
  },
  {
   "cell_type": "code",
   "execution_count": null,
   "id": "6f9fc991",
   "metadata": {},
   "outputs": [
    {
     "data": {
      "text/html": [
       "<div>\n",
       "<style scoped>\n",
       "    .dataframe tbody tr th:only-of-type {\n",
       "        vertical-align: middle;\n",
       "    }\n",
       "\n",
       "    .dataframe tbody tr th {\n",
       "        vertical-align: top;\n",
       "    }\n",
       "\n",
       "    .dataframe thead th {\n",
       "        text-align: right;\n",
       "    }\n",
       "</style>\n",
       "<table border=\"1\" class=\"dataframe\">\n",
       "  <thead>\n",
       "    <tr style=\"text-align: right;\">\n",
       "      <th></th>\n",
       "      <th>gene_ids</th>\n",
       "      <th>feature_types</th>\n",
       "      <th>chromosome</th>\n",
       "      <th>start</th>\n",
       "      <th>end</th>\n",
       "    </tr>\n",
       "  </thead>\n",
       "  <tbody>\n",
       "    <tr>\n",
       "      <th>MIR1302-2HG</th>\n",
       "      <td>ENSG00000243485</td>\n",
       "      <td>Gene Expression</td>\n",
       "      <td>NaN</td>\n",
       "      <td>NaN</td>\n",
       "      <td>NaN</td>\n",
       "    </tr>\n",
       "    <tr>\n",
       "      <th>FAM138A</th>\n",
       "      <td>ENSG00000237613</td>\n",
       "      <td>Gene Expression</td>\n",
       "      <td>NaN</td>\n",
       "      <td>NaN</td>\n",
       "      <td>NaN</td>\n",
       "    </tr>\n",
       "    <tr>\n",
       "      <th>OR4F5</th>\n",
       "      <td>ENSG00000186092</td>\n",
       "      <td>Gene Expression</td>\n",
       "      <td>NaN</td>\n",
       "      <td>NaN</td>\n",
       "      <td>NaN</td>\n",
       "    </tr>\n",
       "    <tr>\n",
       "      <th>AL627309.1</th>\n",
       "      <td>ENSG00000238009</td>\n",
       "      <td>Gene Expression</td>\n",
       "      <td>NaN</td>\n",
       "      <td>NaN</td>\n",
       "      <td>NaN</td>\n",
       "    </tr>\n",
       "    <tr>\n",
       "      <th>AL627309.3</th>\n",
       "      <td>ENSG00000239945</td>\n",
       "      <td>Gene Expression</td>\n",
       "      <td>1</td>\n",
       "      <td>89551.0</td>\n",
       "      <td>91105.0</td>\n",
       "    </tr>\n",
       "    <tr>\n",
       "      <th>...</th>\n",
       "      <td>...</td>\n",
       "      <td>...</td>\n",
       "      <td>...</td>\n",
       "      <td>...</td>\n",
       "      <td>...</td>\n",
       "    </tr>\n",
       "    <tr>\n",
       "      <th>AC141272.1</th>\n",
       "      <td>ENSG00000277836</td>\n",
       "      <td>Gene Expression</td>\n",
       "      <td>NaN</td>\n",
       "      <td>NaN</td>\n",
       "      <td>NaN</td>\n",
       "    </tr>\n",
       "    <tr>\n",
       "      <th>AC023491.2</th>\n",
       "      <td>ENSG00000278633</td>\n",
       "      <td>Gene Expression</td>\n",
       "      <td>NaN</td>\n",
       "      <td>NaN</td>\n",
       "      <td>NaN</td>\n",
       "    </tr>\n",
       "    <tr>\n",
       "      <th>AC007325.1</th>\n",
       "      <td>ENSG00000276017</td>\n",
       "      <td>Gene Expression</td>\n",
       "      <td>NaN</td>\n",
       "      <td>NaN</td>\n",
       "      <td>NaN</td>\n",
       "    </tr>\n",
       "    <tr>\n",
       "      <th>AC007325.4</th>\n",
       "      <td>ENSG00000278817</td>\n",
       "      <td>Gene Expression</td>\n",
       "      <td>KI270734.1</td>\n",
       "      <td>131494.0</td>\n",
       "      <td>137392.0</td>\n",
       "    </tr>\n",
       "    <tr>\n",
       "      <th>AC007325.2</th>\n",
       "      <td>ENSG00000277196</td>\n",
       "      <td>Gene Expression</td>\n",
       "      <td>NaN</td>\n",
       "      <td>NaN</td>\n",
       "      <td>NaN</td>\n",
       "    </tr>\n",
       "  </tbody>\n",
       "</table>\n",
       "<p>36601 rows × 5 columns</p>\n",
       "</div>"
      ],
      "text/plain": [
       "                    gene_ids    feature_types  chromosome     start       end\n",
       "MIR1302-2HG  ENSG00000243485  Gene Expression         NaN       NaN       NaN\n",
       "FAM138A      ENSG00000237613  Gene Expression         NaN       NaN       NaN\n",
       "OR4F5        ENSG00000186092  Gene Expression         NaN       NaN       NaN\n",
       "AL627309.1   ENSG00000238009  Gene Expression         NaN       NaN       NaN\n",
       "AL627309.3   ENSG00000239945  Gene Expression           1   89551.0   91105.0\n",
       "...                      ...              ...         ...       ...       ...\n",
       "AC141272.1   ENSG00000277836  Gene Expression         NaN       NaN       NaN\n",
       "AC023491.2   ENSG00000278633  Gene Expression         NaN       NaN       NaN\n",
       "AC007325.1   ENSG00000276017  Gene Expression         NaN       NaN       NaN\n",
       "AC007325.4   ENSG00000278817  Gene Expression  KI270734.1  131494.0  137392.0\n",
       "AC007325.2   ENSG00000277196  Gene Expression         NaN       NaN       NaN\n",
       "\n",
       "[36601 rows x 5 columns]"
      ]
     },
     "execution_count": 9,
     "metadata": {},
     "output_type": "execute_result"
    }
   ],
   "source": [
    "adata7_filtered = adata7[adata7.obs['cell_type'].isin(['B cell', 'T cell'])].copy()"
   ]
  }
 ],
 "metadata": {
  "kernelspec": {
   "display_name": "OneSC_run",
   "language": "python",
   "name": "python3"
  },
  "language_info": {
   "codemirror_mode": {
    "name": "ipython",
    "version": 3
   },
   "file_extension": ".py",
   "mimetype": "text/x-python",
   "name": "python",
   "nbconvert_exporter": "python",
   "pygments_lexer": "ipython3",
   "version": "3.9.21"
  }
 },
 "nbformat": 4,
 "nbformat_minor": 5
}
