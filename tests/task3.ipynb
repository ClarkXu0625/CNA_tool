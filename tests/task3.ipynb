{
 "cells": [
  {
   "cell_type": "code",
   "execution_count": 2,
   "id": "fb5eb42a",
   "metadata": {},
   "outputs": [
    {
     "name": "stdout",
     "output_type": "stream",
     "text": [
      "Extracting: GSM5837936_sample1_t1.tar.gz → GSM5837936_sample1_t1.tar\n",
      "Extracting: GSM5837937_sample1_t2.tar.gz → GSM5837937_sample1_t2.tar\n",
      "Extracting: GSM5837938_sample1_t3.tar.gz → GSM5837938_sample1_t3.tar\n",
      "Extracting: GSM5837939_sample1_t4.tar.gz → GSM5837939_sample1_t4.tar\n",
      "Extracting: GSM5837940_sample2_t1.tar.gz → GSM5837940_sample2_t1.tar\n",
      "Extracting: GSM5837941_sample2_t2.tar.gz → GSM5837941_sample2_t2.tar\n",
      "Extracting: GSM5837942_sample2_t3.tar.gz → GSM5837942_sample2_t3.tar\n",
      "Extracting: GSM5837943_sample3_t1.tar.gz → GSM5837943_sample3_t1.tar\n",
      "Extracting: GSM5837944_sample3_t2.tar.gz → GSM5837944_sample3_t2.tar\n"
     ]
    }
   ],
   "source": [
    "import scanpy as sc\n",
    "from pathlib import Path\n",
    "import tarfile\n",
    "\n",
    "base_dir = Path(r\"C:\\Users\\clark\\OneDrive\\Documents\\GitHub\\CNA_tool\\data\\data7\\GSE195467_RAW\")\n",
    "\n",
    "for tar_file in base_dir.glob(\"*.tar.gz\"):\n",
    "    extract_dir = base_dir / tar_file.stem  # e.g., GSM5837936_sample1_t1\n",
    "    extract_dir.mkdir(exist_ok=True)\n",
    "    print(f\"Extracting: {tar_file.name} → {extract_dir.name}\")\n",
    "    with tarfile.open(tar_file, mode=\"r:gz\") as tar:\n",
    "        tar.extractall(path=extract_dir)\n"
   ]
  },
  {
   "cell_type": "code",
   "execution_count": null,
   "id": "83837a4d",
   "metadata": {},
   "outputs": [],
   "source": [
    "\n",
    "adatas = []\n",
    "\n",
    "for outer in base_dir.iterdir():\n",
    "    if outer.is_dir():\n",
    "        # Look for exactly one subdirectory inside\n",
    "        subdirs = [d for d in outer.iterdir() if d.is_dir()]\n",
    "        if len(subdirs) == 1 and (subdirs[0] / \"matrix.mtx.gz\").exists():\n",
    "            print(f\"Loading: {subdirs[0]}\")\n",
    "            adata = sc.read_10x_mtx(subdirs[0], var_names=\"gene_symbols\")\n",
    "            adata.obs[\"sample\"] = outer.name\n",
    "            adatas.append(adata)\n",
    "        else:\n",
    "            print(f\"Skipping: {outer} (no valid matrix.mtx.gz found)\")\n",
    "\n",
    "# Merge and save\n",
    "if adatas:\n",
    "    adata_all = adatas[0].concatenate(\n",
    "        *adatas[1:], \n",
    "        batch_key=\"sample_id\",\n",
    "        batch_categories=[a.obs[\"sample\"][0] for a in adatas]\n",
    "    )\n",
    "    out_path = base_dir / \"GSE195467_merged.h5ad\"\n",
    "    adata_all.write(out_path)\n",
    "    print(f\"Merged .h5ad saved to: {out_path}\")\n",
    "else:\n",
    "    print(\"Still no valid samples found.\")\n"
   ]
  }
 ],
 "metadata": {
  "kernelspec": {
   "display_name": "OneSC_run",
   "language": "python",
   "name": "python3"
  },
  "language_info": {
   "codemirror_mode": {
    "name": "ipython",
    "version": 3
   },
   "file_extension": ".py",
   "mimetype": "text/x-python",
   "name": "python",
   "nbconvert_exporter": "python",
   "pygments_lexer": "ipython3",
   "version": "3.9.21"
  }
 },
 "nbformat": 4,
 "nbformat_minor": 5
}
