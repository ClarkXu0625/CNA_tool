{
 "cells": [
  {
   "cell_type": "markdown",
   "id": "5ebf1687",
   "metadata": {},
   "source": [
    "# Load dataset 7"
   ]
  },
  {
   "cell_type": "code",
   "execution_count": 1,
   "id": "ed0ab815",
   "metadata": {},
   "outputs": [],
   "source": [
    "import scanpy as sc\n",
    "from pathlib import Path\n",
    "import tarfile"
   ]
  },
  {
   "cell_type": "code",
   "execution_count": 2,
   "id": "fb5eb42a",
   "metadata": {},
   "outputs": [
    {
     "name": "stdout",
     "output_type": "stream",
     "text": [
      "Extracting: GSM5837936_sample1_t1.tar.gz → GSM5837936_sample1_t1.tar\n",
      "Extracting: GSM5837937_sample1_t2.tar.gz → GSM5837937_sample1_t2.tar\n",
      "Extracting: GSM5837938_sample1_t3.tar.gz → GSM5837938_sample1_t3.tar\n",
      "Extracting: GSM5837939_sample1_t4.tar.gz → GSM5837939_sample1_t4.tar\n",
      "Extracting: GSM5837940_sample2_t1.tar.gz → GSM5837940_sample2_t1.tar\n",
      "Extracting: GSM5837941_sample2_t2.tar.gz → GSM5837941_sample2_t2.tar\n",
      "Extracting: GSM5837942_sample2_t3.tar.gz → GSM5837942_sample2_t3.tar\n",
      "Extracting: GSM5837943_sample3_t1.tar.gz → GSM5837943_sample3_t1.tar\n",
      "Extracting: GSM5837944_sample3_t2.tar.gz → GSM5837944_sample3_t2.tar\n"
     ]
    }
   ],
   "source": [
    "base_dir = Path(r\"C:\\Users\\clark\\OneDrive\\Documents\\GitHub\\CNA_tool\\data\\data7\\GSE195467_RAW\")\n",
    "\n",
    "for tar_file in base_dir.glob(\"*.tar.gz\"):\n",
    "    extract_dir = base_dir / tar_file.stem  # e.g., GSM5837936_sample1_t1\n",
    "    extract_dir.mkdir(exist_ok=True)\n",
    "    print(f\"Extracting: {tar_file.name} → {extract_dir.name}\")\n",
    "    with tarfile.open(tar_file, mode=\"r:gz\") as tar:\n",
    "        tar.extractall(path=extract_dir)\n"
   ]
  },
  {
   "cell_type": "code",
   "execution_count": null,
   "id": "83837a4d",
   "metadata": {},
   "outputs": [],
   "source": [
    "\n",
    "adatas = []\n",
    "\n",
    "for outer in base_dir.iterdir():\n",
    "    if outer.is_dir():\n",
    "        # Look for exactly one subdirectory inside\n",
    "        subdirs = [d for d in outer.iterdir() if d.is_dir()]\n",
    "        if len(subdirs) == 1 and (subdirs[0] / \"matrix.mtx.gz\").exists():\n",
    "            print(f\"Loading: {subdirs[0]}\")\n",
    "            adata = sc.read_10x_mtx(subdirs[0], var_names=\"gene_symbols\")\n",
    "            adata.obs[\"sample\"] = outer.name\n",
    "            adatas.append(adata)\n",
    "        else:\n",
    "            print(f\"Skipping: {outer} (no valid matrix.mtx.gz found)\")\n",
    "\n",
    "# Merge and save\n",
    "if adatas:\n",
    "    adata_all = adatas[0].concatenate(\n",
    "        *adatas[1:], \n",
    "        batch_key=\"sample_id\",\n",
    "        batch_categories=[a.obs[\"sample\"][0] for a in adatas]\n",
    "    )\n",
    "    out_path = base_dir / \"GSE195467_merged.h5ad\"\n",
    "    adata_all.write(out_path)\n",
    "    print(f\"Merged .h5ad saved to: {out_path}\")\n",
    "else:\n",
    "    print(\"Still no valid samples found.\")\n"
   ]
  },
  {
   "cell_type": "markdown",
   "id": "7aa228dc",
   "metadata": {},
   "source": [
    "# load processed data"
   ]
  },
  {
   "cell_type": "code",
   "execution_count": 3,
   "id": "0ab98fcf",
   "metadata": {},
   "outputs": [
    {
     "name": "stdout",
     "output_type": "stream",
     "text": [
      "Loaded: ../data/num4_adata.h5ad\n"
     ]
    },
    {
     "data": {
      "text/html": [
       "<div>\n",
       "<style scoped>\n",
       "    .dataframe tbody tr th:only-of-type {\n",
       "        vertical-align: middle;\n",
       "    }\n",
       "\n",
       "    .dataframe tbody tr th {\n",
       "        vertical-align: top;\n",
       "    }\n",
       "\n",
       "    .dataframe thead th {\n",
       "        text-align: right;\n",
       "    }\n",
       "</style>\n",
       "<table border=\"1\" class=\"dataframe\">\n",
       "  <thead>\n",
       "    <tr style=\"text-align: right;\">\n",
       "      <th></th>\n",
       "      <th>sample</th>\n",
       "    </tr>\n",
       "  </thead>\n",
       "  <tbody>\n",
       "    <tr>\n",
       "      <th>AAACCCAAGAACTGAT-1_PGP1_WT2</th>\n",
       "      <td>PGP1_WT2</td>\n",
       "    </tr>\n",
       "    <tr>\n",
       "      <th>AAACCCAAGACGCCAA-1_PGP1_WT2</th>\n",
       "      <td>PGP1_WT2</td>\n",
       "    </tr>\n",
       "    <tr>\n",
       "      <th>AAACCCAAGATGTAGT-1_PGP1_WT2</th>\n",
       "      <td>PGP1_WT2</td>\n",
       "    </tr>\n",
       "    <tr>\n",
       "      <th>AAACCCAAGCCTATCA-1_PGP1_WT2</th>\n",
       "      <td>PGP1_WT2</td>\n",
       "    </tr>\n",
       "    <tr>\n",
       "      <th>AAACCCAAGGCACTAG-1_PGP1_WT2</th>\n",
       "      <td>PGP1_WT2</td>\n",
       "    </tr>\n",
       "    <tr>\n",
       "      <th>...</th>\n",
       "      <td>...</td>\n",
       "    </tr>\n",
       "    <tr>\n",
       "      <th>TTTGTTGGTGCCTGCA-1_WTC11_Het1</th>\n",
       "      <td>WTC11_Het1</td>\n",
       "    </tr>\n",
       "    <tr>\n",
       "      <th>TTTGTTGTCAACGCTA-1_WTC11_Het1</th>\n",
       "      <td>WTC11_Het1</td>\n",
       "    </tr>\n",
       "    <tr>\n",
       "      <th>TTTGTTGTCCCGGTAG-1_WTC11_Het1</th>\n",
       "      <td>WTC11_Het1</td>\n",
       "    </tr>\n",
       "    <tr>\n",
       "      <th>TTTGTTGTCGAAGTGG-1_WTC11_Het1</th>\n",
       "      <td>WTC11_Het1</td>\n",
       "    </tr>\n",
       "    <tr>\n",
       "      <th>TTTGTTGTCTCGCGTT-1_WTC11_Het1</th>\n",
       "      <td>WTC11_Het1</td>\n",
       "    </tr>\n",
       "  </tbody>\n",
       "</table>\n",
       "<p>76803 rows × 1 columns</p>\n",
       "</div>"
      ],
      "text/plain": [
       "                                   sample\n",
       "AAACCCAAGAACTGAT-1_PGP1_WT2      PGP1_WT2\n",
       "AAACCCAAGACGCCAA-1_PGP1_WT2      PGP1_WT2\n",
       "AAACCCAAGATGTAGT-1_PGP1_WT2      PGP1_WT2\n",
       "AAACCCAAGCCTATCA-1_PGP1_WT2      PGP1_WT2\n",
       "AAACCCAAGGCACTAG-1_PGP1_WT2      PGP1_WT2\n",
       "...                                   ...\n",
       "TTTGTTGGTGCCTGCA-1_WTC11_Het1  WTC11_Het1\n",
       "TTTGTTGTCAACGCTA-1_WTC11_Het1  WTC11_Het1\n",
       "TTTGTTGTCCCGGTAG-1_WTC11_Het1  WTC11_Het1\n",
       "TTTGTTGTCGAAGTGG-1_WTC11_Het1  WTC11_Het1\n",
       "TTTGTTGTCTCGCGTT-1_WTC11_Het1  WTC11_Het1\n",
       "\n",
       "[76803 rows x 1 columns]"
      ]
     },
     "execution_count": 3,
     "metadata": {},
     "output_type": "execute_result"
    }
   ],
   "source": [
    "num4_adata_path = \"../data/num4_adata.h5ad\"\n",
    "adata4 = sc.read_h5ad(num4_adata_path)\n",
    "print(f\"Loaded: {num4_adata_path}\")\n",
    "adata4.obs"
   ]
  },
  {
   "cell_type": "code",
   "execution_count": 2,
   "id": "3536c266",
   "metadata": {},
   "outputs": [
    {
     "name": "stdout",
     "output_type": "stream",
     "text": [
      "Loaded: ../data/num6_adata.h5ad\n"
     ]
    }
   ],
   "source": [
    "num6_adata_path = \"../data/num6_adata.h5ad\"\n",
    "adata6 = sc.read_h5ad(num6_adata_path)\n",
    "print(f\"Loaded: {num6_adata_path}\")"
   ]
  },
  {
   "cell_type": "code",
   "execution_count": null,
   "id": "63ca488d",
   "metadata": {},
   "outputs": [
    {
     "name": "stdout",
     "output_type": "stream",
     "text": [
      "Loaded: ../data/num6_adata.h5ad\n"
     ]
    },
    {
     "name": "stderr",
     "output_type": "stream",
     "text": [
      "/Users/apple/opt/miniconda3/envs/scFates/lib/python3.11/site-packages/anndata/_core/anndata.py:1756: UserWarning: Observation names are not unique. To make them unique, call `.obs_names_make_unique`.\n",
      "  utils.warn_names_duplicates(\"obs\")\n"
     ]
    }
   ],
   "source": [
    "num3_adata_path = \"../data/num3_adata.h5ad\"\n",
    "adata3 = sc.read_h5ad(num3_adata_path)\n",
    "print(f\"Loaded: {num6_adata_path}\")"
   ]
  },
  {
   "cell_type": "code",
   "execution_count": 30,
   "id": "42155688",
   "metadata": {},
   "outputs": [
    {
     "name": "stdout",
     "output_type": "stream",
     "text": [
      "Loaded: ../data/num7_adata.h5ad\n"
     ]
    }
   ],
   "source": [
    "num7_adata_path = \"../data/num7_adata.h5ad\"\n",
    "adata7 = sc.read_h5ad(num7_adata_path)\n",
    "print(f\"Loaded: {num7_adata_path}\")"
   ]
  },
  {
   "cell_type": "code",
   "execution_count": 4,
   "id": "b244cd76",
   "metadata": {},
   "outputs": [],
   "source": [
    "adata = sc.read_h5ad(\"PBMC_simulated_cnas_041025.h5ad\")"
   ]
  },
  {
   "cell_type": "code",
   "execution_count": 19,
   "id": "8f932522",
   "metadata": {},
   "outputs": [
    {
     "data": {
      "text/html": [
       "<div>\n",
       "<style scoped>\n",
       "    .dataframe tbody tr th:only-of-type {\n",
       "        vertical-align: middle;\n",
       "    }\n",
       "\n",
       "    .dataframe tbody tr th {\n",
       "        vertical-align: top;\n",
       "    }\n",
       "\n",
       "    .dataframe thead th {\n",
       "        text-align: right;\n",
       "    }\n",
       "</style>\n",
       "<table border=\"1\" class=\"dataframe\">\n",
       "  <thead>\n",
       "    <tr style=\"text-align: right;\">\n",
       "      <th></th>\n",
       "      <th>gene_ids</th>\n",
       "      <th>feature_types</th>\n",
       "      <th>genome</th>\n",
       "      <th>mt</th>\n",
       "      <th>ribo</th>\n",
       "      <th>n_cells_by_counts</th>\n",
       "      <th>mean_counts</th>\n",
       "      <th>pct_dropout_by_counts</th>\n",
       "      <th>total_counts</th>\n",
       "      <th>n_cells</th>\n",
       "      <th>chromosome</th>\n",
       "      <th>start</th>\n",
       "      <th>end</th>\n",
       "      <th>strand</th>\n",
       "    </tr>\n",
       "    <tr>\n",
       "      <th>original_index</th>\n",
       "      <th></th>\n",
       "      <th></th>\n",
       "      <th></th>\n",
       "      <th></th>\n",
       "      <th></th>\n",
       "      <th></th>\n",
       "      <th></th>\n",
       "      <th></th>\n",
       "      <th></th>\n",
       "      <th></th>\n",
       "      <th></th>\n",
       "      <th></th>\n",
       "      <th></th>\n",
       "      <th></th>\n",
       "    </tr>\n",
       "  </thead>\n",
       "  <tbody>\n",
       "    <tr>\n",
       "      <th>AL627309.1</th>\n",
       "      <td>ENSG00000238009</td>\n",
       "      <td>Gene Expression</td>\n",
       "      <td>GRCh38</td>\n",
       "      <td>False</td>\n",
       "      <td>False</td>\n",
       "      <td>60</td>\n",
       "      <td>0.005183</td>\n",
       "      <td>99.490186</td>\n",
       "      <td>61.0</td>\n",
       "      <td>60</td>\n",
       "      <td>NaN</td>\n",
       "      <td>NaN</td>\n",
       "      <td>NaN</td>\n",
       "      <td>NaN</td>\n",
       "    </tr>\n",
       "    <tr>\n",
       "      <th>AL627309.3</th>\n",
       "      <td>ENSG00000239945</td>\n",
       "      <td>Gene Expression</td>\n",
       "      <td>GRCh38</td>\n",
       "      <td>False</td>\n",
       "      <td>False</td>\n",
       "      <td>4</td>\n",
       "      <td>0.000340</td>\n",
       "      <td>99.966012</td>\n",
       "      <td>4.0</td>\n",
       "      <td>4</td>\n",
       "      <td>1</td>\n",
       "      <td>89551.0</td>\n",
       "      <td>91105.0</td>\n",
       "      <td>-1.0</td>\n",
       "    </tr>\n",
       "    <tr>\n",
       "      <th>AL669831.5</th>\n",
       "      <td>ENSG00000237491</td>\n",
       "      <td>Gene Expression</td>\n",
       "      <td>GRCh38</td>\n",
       "      <td>False</td>\n",
       "      <td>False</td>\n",
       "      <td>679</td>\n",
       "      <td>0.062367</td>\n",
       "      <td>94.230606</td>\n",
       "      <td>734.0</td>\n",
       "      <td>673</td>\n",
       "      <td>1</td>\n",
       "      <td>778739.0</td>\n",
       "      <td>810066.0</td>\n",
       "      <td>1.0</td>\n",
       "    </tr>\n",
       "    <tr>\n",
       "      <th>FAM87B</th>\n",
       "      <td>ENSG00000177757</td>\n",
       "      <td>Gene Expression</td>\n",
       "      <td>GRCh38</td>\n",
       "      <td>False</td>\n",
       "      <td>False</td>\n",
       "      <td>13</td>\n",
       "      <td>0.001190</td>\n",
       "      <td>99.889540</td>\n",
       "      <td>14.0</td>\n",
       "      <td>13</td>\n",
       "      <td>1</td>\n",
       "      <td>817363.0</td>\n",
       "      <td>819842.0</td>\n",
       "      <td>1.0</td>\n",
       "    </tr>\n",
       "    <tr>\n",
       "      <th>LINC00115</th>\n",
       "      <td>ENSG00000225880</td>\n",
       "      <td>Gene Expression</td>\n",
       "      <td>GRCh38</td>\n",
       "      <td>False</td>\n",
       "      <td>False</td>\n",
       "      <td>350</td>\n",
       "      <td>0.031269</td>\n",
       "      <td>97.026085</td>\n",
       "      <td>368.0</td>\n",
       "      <td>340</td>\n",
       "      <td>1</td>\n",
       "      <td>586945.0</td>\n",
       "      <td>827989.0</td>\n",
       "      <td>-1.0</td>\n",
       "    </tr>\n",
       "    <tr>\n",
       "      <th>...</th>\n",
       "      <td>...</td>\n",
       "      <td>...</td>\n",
       "      <td>...</td>\n",
       "      <td>...</td>\n",
       "      <td>...</td>\n",
       "      <td>...</td>\n",
       "      <td>...</td>\n",
       "      <td>...</td>\n",
       "      <td>...</td>\n",
       "      <td>...</td>\n",
       "      <td>...</td>\n",
       "      <td>...</td>\n",
       "      <td>...</td>\n",
       "      <td>...</td>\n",
       "    </tr>\n",
       "    <tr>\n",
       "      <th>AC011043.1</th>\n",
       "      <td>ENSG00000276256</td>\n",
       "      <td>Gene Expression</td>\n",
       "      <td>GRCh38</td>\n",
       "      <td>False</td>\n",
       "      <td>False</td>\n",
       "      <td>77</td>\n",
       "      <td>0.006882</td>\n",
       "      <td>99.345739</td>\n",
       "      <td>81.0</td>\n",
       "      <td>75</td>\n",
       "      <td>GL000195.1</td>\n",
       "      <td>42939.0</td>\n",
       "      <td>49164.0</td>\n",
       "      <td>-1.0</td>\n",
       "    </tr>\n",
       "    <tr>\n",
       "      <th>AL592183.1</th>\n",
       "      <td>ENSG00000273748</td>\n",
       "      <td>Gene Expression</td>\n",
       "      <td>GRCh38</td>\n",
       "      <td>False</td>\n",
       "      <td>False</td>\n",
       "      <td>32</td>\n",
       "      <td>0.002719</td>\n",
       "      <td>99.728099</td>\n",
       "      <td>32.0</td>\n",
       "      <td>31</td>\n",
       "      <td>GL000219.1</td>\n",
       "      <td>54224.0</td>\n",
       "      <td>83311.0</td>\n",
       "      <td>-1.0</td>\n",
       "    </tr>\n",
       "    <tr>\n",
       "      <th>AC007325.4</th>\n",
       "      <td>ENSG00000278817</td>\n",
       "      <td>Gene Expression</td>\n",
       "      <td>GRCh38</td>\n",
       "      <td>False</td>\n",
       "      <td>False</td>\n",
       "      <td>239</td>\n",
       "      <td>0.020902</td>\n",
       "      <td>97.969241</td>\n",
       "      <td>246.0</td>\n",
       "      <td>235</td>\n",
       "      <td>KI270734.1</td>\n",
       "      <td>131494.0</td>\n",
       "      <td>137392.0</td>\n",
       "      <td>1.0</td>\n",
       "    </tr>\n",
       "    <tr>\n",
       "      <th>AL354822.1</th>\n",
       "      <td>ENSG00000278384</td>\n",
       "      <td>Gene Expression</td>\n",
       "      <td>GRCh38</td>\n",
       "      <td>False</td>\n",
       "      <td>False</td>\n",
       "      <td>319</td>\n",
       "      <td>0.028210</td>\n",
       "      <td>97.289489</td>\n",
       "      <td>332.0</td>\n",
       "      <td>307</td>\n",
       "      <td>GL000218.1</td>\n",
       "      <td>51867.0</td>\n",
       "      <td>54893.0</td>\n",
       "      <td>-1.0</td>\n",
       "    </tr>\n",
       "    <tr>\n",
       "      <th>AC240274.1</th>\n",
       "      <td>ENSG00000271254</td>\n",
       "      <td>Gene Expression</td>\n",
       "      <td>GRCh38</td>\n",
       "      <td>False</td>\n",
       "      <td>False</td>\n",
       "      <td>101</td>\n",
       "      <td>0.008752</td>\n",
       "      <td>99.141813</td>\n",
       "      <td>103.0</td>\n",
       "      <td>101</td>\n",
       "      <td>HG1343_HG173_HG459_PATCH</td>\n",
       "      <td>1011165.0</td>\n",
       "      <td>1078120.0</td>\n",
       "      <td>1.0</td>\n",
       "    </tr>\n",
       "  </tbody>\n",
       "</table>\n",
       "<p>20104 rows × 14 columns</p>\n",
       "</div>"
      ],
      "text/plain": [
       "                       gene_ids    feature_types  genome     mt   ribo  \\\n",
       "original_index                                                           \n",
       "AL627309.1      ENSG00000238009  Gene Expression  GRCh38  False  False   \n",
       "AL627309.3      ENSG00000239945  Gene Expression  GRCh38  False  False   \n",
       "AL669831.5      ENSG00000237491  Gene Expression  GRCh38  False  False   \n",
       "FAM87B          ENSG00000177757  Gene Expression  GRCh38  False  False   \n",
       "LINC00115       ENSG00000225880  Gene Expression  GRCh38  False  False   \n",
       "...                         ...              ...     ...    ...    ...   \n",
       "AC011043.1      ENSG00000276256  Gene Expression  GRCh38  False  False   \n",
       "AL592183.1      ENSG00000273748  Gene Expression  GRCh38  False  False   \n",
       "AC007325.4      ENSG00000278817  Gene Expression  GRCh38  False  False   \n",
       "AL354822.1      ENSG00000278384  Gene Expression  GRCh38  False  False   \n",
       "AC240274.1      ENSG00000271254  Gene Expression  GRCh38  False  False   \n",
       "\n",
       "                n_cells_by_counts  mean_counts  pct_dropout_by_counts  \\\n",
       "original_index                                                          \n",
       "AL627309.1                     60     0.005183              99.490186   \n",
       "AL627309.3                      4     0.000340              99.966012   \n",
       "AL669831.5                    679     0.062367              94.230606   \n",
       "FAM87B                         13     0.001190              99.889540   \n",
       "LINC00115                     350     0.031269              97.026085   \n",
       "...                           ...          ...                    ...   \n",
       "AC011043.1                     77     0.006882              99.345739   \n",
       "AL592183.1                     32     0.002719              99.728099   \n",
       "AC007325.4                    239     0.020902              97.969241   \n",
       "AL354822.1                    319     0.028210              97.289489   \n",
       "AC240274.1                    101     0.008752              99.141813   \n",
       "\n",
       "                total_counts  n_cells                chromosome      start  \\\n",
       "original_index                                                               \n",
       "AL627309.1              61.0       60                       NaN        NaN   \n",
       "AL627309.3               4.0        4                         1    89551.0   \n",
       "AL669831.5             734.0      673                         1   778739.0   \n",
       "FAM87B                  14.0       13                         1   817363.0   \n",
       "LINC00115              368.0      340                         1   586945.0   \n",
       "...                      ...      ...                       ...        ...   \n",
       "AC011043.1              81.0       75                GL000195.1    42939.0   \n",
       "AL592183.1              32.0       31                GL000219.1    54224.0   \n",
       "AC007325.4             246.0      235                KI270734.1   131494.0   \n",
       "AL354822.1             332.0      307                GL000218.1    51867.0   \n",
       "AC240274.1             103.0      101  HG1343_HG173_HG459_PATCH  1011165.0   \n",
       "\n",
       "                      end  strand  \n",
       "original_index                     \n",
       "AL627309.1            NaN     NaN  \n",
       "AL627309.3        91105.0    -1.0  \n",
       "AL669831.5       810066.0     1.0  \n",
       "FAM87B           819842.0     1.0  \n",
       "LINC00115        827989.0    -1.0  \n",
       "...                   ...     ...  \n",
       "AC011043.1        49164.0    -1.0  \n",
       "AL592183.1        83311.0    -1.0  \n",
       "AC007325.4       137392.0     1.0  \n",
       "AL354822.1        54893.0    -1.0  \n",
       "AC240274.1      1078120.0     1.0  \n",
       "\n",
       "[20104 rows x 14 columns]"
      ]
     },
     "execution_count": 19,
     "metadata": {},
     "output_type": "execute_result"
    }
   ],
   "source": [
    "adata.var"
   ]
  },
  {
   "cell_type": "markdown",
   "id": "be6fb7c0",
   "metadata": {},
   "source": [
    "# Task 3 "
   ]
  },
  {
   "cell_type": "code",
   "execution_count": 3,
   "id": "a79debc9",
   "metadata": {},
   "outputs": [],
   "source": [
    "import sys\n",
    "sys.path.append('../src')\n",
    "\n",
    "#from preprocessing import annotation_preprocess\n",
    "import pandas as pd\n",
    "import scanpy as sc\n",
    "import numpy as np\n",
    "import matplotlib.pyplot as plt\n",
    "import seaborn as sns\n",
    "\n",
    "import cna_tool\n",
    "from cna_tool import CNAInferer  # assuming this contains your working class\n",
    "from cna_tool.utils import select_control_mask\n",
    "from cna_tool.infer import infer_cnas_from_scrna\n",
    "from cna_tool.tl import run_cna_evaluation\n",
    "from cna_tool.cna_inference import test_pipeline_on_slice"
   ]
  },
  {
   "cell_type": "markdown",
   "id": "30d040d0",
   "metadata": {},
   "source": [
    "# functions"
   ]
  },
  {
   "cell_type": "code",
   "execution_count": 24,
   "id": "bafbd25a",
   "metadata": {},
   "outputs": [],
   "source": [
    "from mygene import MyGeneInfo\n",
    "\n",
    "def fetch_gene_coordinates_via_mygene(adata, species='human'):\n",
    "    mg = MyGeneInfo()\n",
    "    gene_names = adata.var['gene_name'].astype(str).unique().tolist()\n",
    "\n",
    "    print(f\"Querying {len(gene_names)} genes from mygene.info...\")\n",
    "    results = mg.querymany(gene_names, scopes='symbol', fields='genomic_pos', species=species, as_dataframe=True)\n",
    "    results = results[~results.index.duplicated(keep='first')]  # remove duplicate matches\n",
    "\n",
    "    def get_coord(gene, field):\n",
    "        try:\n",
    "            val = results.loc[gene, 'genomic_pos']\n",
    "            if isinstance(val, dict):\n",
    "                return val.get(field)\n",
    "            elif isinstance(val, list) and isinstance(val[0], dict):\n",
    "                return val[0].get(field)\n",
    "            else:\n",
    "                return None\n",
    "        except Exception:\n",
    "            return None\n",
    "\n",
    "    adata.var['chromosome'] = adata.var['gene_name'].map(lambda g: get_coord(g, 'chr'))\n",
    "    adata.var['start'] = adata.var['gene_name'].map(lambda g: get_coord(g, 'start'))\n",
    "    adata.var['end'] = adata.var['gene_name'].map(lambda g: get_coord(g, 'end'))\n",
    "\n",
    "    return adata\n"
   ]
  },
  {
   "cell_type": "code",
   "execution_count": 25,
   "id": "47ddbd25",
   "metadata": {},
   "outputs": [],
   "source": [
    "def load_gtf_as_dataframe(gtf_file):\n",
    "    rows = []\n",
    "    with open(gtf_file, 'r') as f:\n",
    "        for line in f:\n",
    "            if line.startswith(\"#\"):\n",
    "                continue\n",
    "            fields = line.strip().split('\\t')\n",
    "            if fields[2] != 'gene':\n",
    "                continue\n",
    "            chrom, source, feature, start, end, score, strand, frame, attr = fields\n",
    "            info = {k: v.strip('\"') for k, v in \n",
    "                    [field.strip().split(' ')[:2] for field in attr.strip(';').split(';') if field]}\n",
    "            rows.append({\n",
    "                'gene_name': info.get('gene_name'),\n",
    "                'gene_id': info.get('gene_id'),\n",
    "                'chromosome': chrom.replace('chr', ''),\n",
    "                'start': int(start),\n",
    "                'end': int(end)\n",
    "            })\n",
    "    return pd.DataFrame(rows)"
   ]
  },
  {
   "cell_type": "markdown",
   "id": "6bb70cdf",
   "metadata": {},
   "source": [
    "# dataset 6"
   ]
  },
  {
   "cell_type": "code",
   "execution_count": 26,
   "id": "02f4e0e1",
   "metadata": {},
   "outputs": [
    {
     "name": "stdout",
     "output_type": "stream",
     "text": [
      "Loaded: ../data/num6_adata.h5ad\n"
     ]
    },
    {
     "data": {
      "text/html": [
       "<div>\n",
       "<style scoped>\n",
       "    .dataframe tbody tr th:only-of-type {\n",
       "        vertical-align: middle;\n",
       "    }\n",
       "\n",
       "    .dataframe tbody tr th {\n",
       "        vertical-align: top;\n",
       "    }\n",
       "\n",
       "    .dataframe thead th {\n",
       "        text-align: right;\n",
       "    }\n",
       "</style>\n",
       "<table border=\"1\" class=\"dataframe\">\n",
       "  <thead>\n",
       "    <tr style=\"text-align: right;\">\n",
       "      <th></th>\n",
       "      <th>gene_name</th>\n",
       "    </tr>\n",
       "  </thead>\n",
       "  <tbody>\n",
       "    <tr>\n",
       "      <th>A1BG</th>\n",
       "      <td>A1BG</td>\n",
       "    </tr>\n",
       "    <tr>\n",
       "      <th>A1BG-AS1</th>\n",
       "      <td>A1BG-AS1</td>\n",
       "    </tr>\n",
       "    <tr>\n",
       "      <th>A1CF</th>\n",
       "      <td>A1CF</td>\n",
       "    </tr>\n",
       "    <tr>\n",
       "      <th>A2M</th>\n",
       "      <td>A2M</td>\n",
       "    </tr>\n",
       "    <tr>\n",
       "      <th>A2M-AS1</th>\n",
       "      <td>A2M-AS1</td>\n",
       "    </tr>\n",
       "    <tr>\n",
       "      <th>...</th>\n",
       "      <td>...</td>\n",
       "    </tr>\n",
       "    <tr>\n",
       "      <th>ZZZ3</th>\n",
       "      <td>ZZZ3</td>\n",
       "    </tr>\n",
       "    <tr>\n",
       "      <th>bP-21264C1.2</th>\n",
       "      <td>bP-21264C1.2</td>\n",
       "    </tr>\n",
       "    <tr>\n",
       "      <th>bP-2171C21.3</th>\n",
       "      <td>bP-2171C21.3</td>\n",
       "    </tr>\n",
       "    <tr>\n",
       "      <th>bP-2189O9.3</th>\n",
       "      <td>bP-2189O9.3</td>\n",
       "    </tr>\n",
       "    <tr>\n",
       "      <th>hsa-mir-1253</th>\n",
       "      <td>hsa-mir-1253</td>\n",
       "    </tr>\n",
       "  </tbody>\n",
       "</table>\n",
       "<p>45068 rows × 1 columns</p>\n",
       "</div>"
      ],
      "text/plain": [
       "                 gene_name\n",
       "A1BG                  A1BG\n",
       "A1BG-AS1          A1BG-AS1\n",
       "A1CF                  A1CF\n",
       "A2M                    A2M\n",
       "A2M-AS1            A2M-AS1\n",
       "...                    ...\n",
       "ZZZ3                  ZZZ3\n",
       "bP-21264C1.2  bP-21264C1.2\n",
       "bP-2171C21.3  bP-2171C21.3\n",
       "bP-2189O9.3    bP-2189O9.3\n",
       "hsa-mir-1253  hsa-mir-1253\n",
       "\n",
       "[45068 rows x 1 columns]"
      ]
     },
     "execution_count": 26,
     "metadata": {},
     "output_type": "execute_result"
    }
   ],
   "source": [
    "num6_adata_path = \"../data/num6_adata.h5ad\"\n",
    "adata6 = sc.read_h5ad(num6_adata_path)\n",
    "print(f\"Loaded: {num6_adata_path}\")\n",
    "\n",
    "adata6.var['gene_name'] = adata6.var.index\n",
    "adata6.var\n"
   ]
  },
  {
   "cell_type": "code",
   "execution_count": 27,
   "id": "fbab662a",
   "metadata": {},
   "outputs": [
    {
     "name": "stderr",
     "output_type": "stream",
     "text": [
      "Input sequence provided is already in string format. No operation performed\n",
      "Input sequence provided is already in string format. No operation performed\n"
     ]
    },
    {
     "name": "stdout",
     "output_type": "stream",
     "text": [
      "Querying 45068 genes from mygene.info...\n"
     ]
    },
    {
     "name": "stderr",
     "output_type": "stream",
     "text": [
      "1323 input query terms found dup hits:\t[('A2ML1-AS1', 2), ('A2ML1-AS2', 2), ('AADACL2-AS1', 3), ('ABHD15-AS1', 2), ('ACBD3-AS1', 2), ('ADAM\n",
      "22411 input query terms found no hit:\t['AAED1', 'AARS', 'AATK-AS1', 'AB015752.1', 'AB015752.3', 'AB019440.50', 'ABC11-4932300O16.1', 'ABC1\n"
     ]
    },
    {
     "name": "stdout",
     "output_type": "stream",
     "text": [
      "           gene_name chromosome  start  end\n",
      "A1BG            A1BG       None    NaN  NaN\n",
      "A1BG-AS1    A1BG-AS1       None    NaN  NaN\n",
      "A1CF            A1CF       None    NaN  NaN\n",
      "A2M              A2M       None    NaN  NaN\n",
      "A2M-AS1      A2M-AS1       None    NaN  NaN\n",
      "A2ML1          A2ML1       None    NaN  NaN\n",
      "A2ML1-AS1  A2ML1-AS1       None    NaN  NaN\n",
      "A2ML1-AS2  A2ML1-AS2       None    NaN  NaN\n",
      "A3GALT2      A3GALT2       None    NaN  NaN\n",
      "A4GALT        A4GALT       None    NaN  NaN\n",
      "Missing values: chromosome    43538\n",
      "start         43538\n",
      "end           43538\n",
      "dtype: int64\n"
     ]
    }
   ],
   "source": [
    "adata6 = fetch_gene_coordinates_via_mygene(adata6)\n",
    "print(adata6.var[['gene_name', 'chromosome', 'start', 'end']].head(10))\n",
    "print(\"Missing values:\", adata6.var[['chromosome', 'start', 'end']].isna().sum())\n"
   ]
  },
  {
   "cell_type": "markdown",
   "id": "80e7489d",
   "metadata": {},
   "source": [
    "use gtf"
   ]
  },
  {
   "cell_type": "code",
   "execution_count": 28,
   "id": "0e5ac730",
   "metadata": {},
   "outputs": [],
   "source": [
    "gtf_df1 = load_gtf_as_dataframe(\"gencode.v47.annotation.gtf\")\n",
    "\n",
    "# this is more comprehensive\n",
    "gtf_df = load_gtf_as_dataframe(\"gencode.v47.chr_patch_hapl_scaff.annotation.gtf\")\n"
   ]
  },
  {
   "cell_type": "code",
   "execution_count": 29,
   "id": "af1b984c",
   "metadata": {},
   "outputs": [],
   "source": [
    "# Step 1: Copy and reset gene_name\n",
    "merged = adata6.var.copy()\n",
    "merged['gene_name'] = merged.index.astype(str)\n",
    "\n",
    "# Step 2: Merge with GTF\n",
    "merged = merged.merge(gtf_df, on='gene_name', how='left')\n",
    "\n",
    "# Step 3: Drop duplicates (if merge resulted in more rows)\n",
    "merged = merged.drop_duplicates(subset='gene_name', keep='first')\n",
    "\n",
    "# Step 4: Align merged index with adata6.var\n",
    "merged = merged.set_index('gene_name')\n",
    "merged = merged.loc[adata6.var.index]  # ensure same order and rows\n",
    "\n",
    "# Step 5: Assign to adata6.var\n",
    "adata6.var['chromosome'] = merged['chromosome_y'].fillna(merged['chromosome_x'])\n",
    "adata6.var['start'] = merged['start_y'].fillna(merged['start_x'])\n",
    "adata6.var['end'] = merged['end_y'].fillna(merged['end_x'])\n",
    "\n"
   ]
  },
  {
   "cell_type": "code",
   "execution_count": 30,
   "id": "9dc50c9a",
   "metadata": {},
   "outputs": [
    {
     "name": "stdout",
     "output_type": "stream",
     "text": [
      "Final gene coordinate coverage:\n",
      "chromosome    22548\n",
      "start         22548\n",
      "end           22548\n",
      "dtype: int64\n"
     ]
    }
   ],
   "source": [
    "print(\"Final gene coordinate coverage:\")\n",
    "print(adata6.var[['chromosome', 'start', 'end']].notna().sum())\n"
   ]
  },
  {
   "cell_type": "code",
   "execution_count": 33,
   "id": "8baf1f3f",
   "metadata": {},
   "outputs": [
    {
     "name": "stdout",
     "output_type": "stream",
     "text": [
      "Number of NaN values in adata6.var['chromosome']: 22520\n"
     ]
    }
   ],
   "source": [
    "nan_count = adata6.var['chromosome'].isna().sum()\n",
    "print(f\"Number of NaN values in adata6.var['chromosome']: {nan_count}\")"
   ]
  },
  {
   "cell_type": "code",
   "execution_count": 34,
   "id": "f08bb884",
   "metadata": {},
   "outputs": [
    {
     "data": {
      "text/html": [
       "<div>\n",
       "<style scoped>\n",
       "    .dataframe tbody tr th:only-of-type {\n",
       "        vertical-align: middle;\n",
       "    }\n",
       "\n",
       "    .dataframe tbody tr th {\n",
       "        vertical-align: top;\n",
       "    }\n",
       "\n",
       "    .dataframe thead th {\n",
       "        text-align: right;\n",
       "    }\n",
       "</style>\n",
       "<table border=\"1\" class=\"dataframe\">\n",
       "  <thead>\n",
       "    <tr style=\"text-align: right;\">\n",
       "      <th></th>\n",
       "      <th>gene_name</th>\n",
       "      <th>chromosome</th>\n",
       "      <th>start</th>\n",
       "      <th>end</th>\n",
       "    </tr>\n",
       "  </thead>\n",
       "  <tbody>\n",
       "    <tr>\n",
       "      <th>A1BG</th>\n",
       "      <td>A1BG</td>\n",
       "      <td>19</td>\n",
       "      <td>58345178.0</td>\n",
       "      <td>58353492.0</td>\n",
       "    </tr>\n",
       "    <tr>\n",
       "      <th>A1BG-AS1</th>\n",
       "      <td>A1BG-AS1</td>\n",
       "      <td>19</td>\n",
       "      <td>58347718.0</td>\n",
       "      <td>58355455.0</td>\n",
       "    </tr>\n",
       "    <tr>\n",
       "      <th>A1CF</th>\n",
       "      <td>A1CF</td>\n",
       "      <td>10</td>\n",
       "      <td>50799409.0</td>\n",
       "      <td>50885675.0</td>\n",
       "    </tr>\n",
       "    <tr>\n",
       "      <th>A2M</th>\n",
       "      <td>A2M</td>\n",
       "      <td>12</td>\n",
       "      <td>9067664.0</td>\n",
       "      <td>9116229.0</td>\n",
       "    </tr>\n",
       "    <tr>\n",
       "      <th>A2M-AS1</th>\n",
       "      <td>A2M-AS1</td>\n",
       "      <td>12</td>\n",
       "      <td>9065163.0</td>\n",
       "      <td>9068689.0</td>\n",
       "    </tr>\n",
       "    <tr>\n",
       "      <th>...</th>\n",
       "      <td>...</td>\n",
       "      <td>...</td>\n",
       "      <td>...</td>\n",
       "      <td>...</td>\n",
       "    </tr>\n",
       "    <tr>\n",
       "      <th>ZZZ3</th>\n",
       "      <td>ZZZ3</td>\n",
       "      <td>1</td>\n",
       "      <td>77562416.0</td>\n",
       "      <td>77683419.0</td>\n",
       "    </tr>\n",
       "    <tr>\n",
       "      <th>bP-21264C1.2</th>\n",
       "      <td>bP-21264C1.2</td>\n",
       "      <td>None</td>\n",
       "      <td>NaN</td>\n",
       "      <td>NaN</td>\n",
       "    </tr>\n",
       "    <tr>\n",
       "      <th>bP-2171C21.3</th>\n",
       "      <td>bP-2171C21.3</td>\n",
       "      <td>None</td>\n",
       "      <td>NaN</td>\n",
       "      <td>NaN</td>\n",
       "    </tr>\n",
       "    <tr>\n",
       "      <th>bP-2189O9.3</th>\n",
       "      <td>bP-2189O9.3</td>\n",
       "      <td>None</td>\n",
       "      <td>NaN</td>\n",
       "      <td>NaN</td>\n",
       "    </tr>\n",
       "    <tr>\n",
       "      <th>hsa-mir-1253</th>\n",
       "      <td>hsa-mir-1253</td>\n",
       "      <td>17</td>\n",
       "      <td>2748078.0</td>\n",
       "      <td>2748182.0</td>\n",
       "    </tr>\n",
       "  </tbody>\n",
       "</table>\n",
       "<p>45068 rows × 4 columns</p>\n",
       "</div>"
      ],
      "text/plain": [
       "                 gene_name chromosome       start         end\n",
       "A1BG                  A1BG         19  58345178.0  58353492.0\n",
       "A1BG-AS1          A1BG-AS1         19  58347718.0  58355455.0\n",
       "A1CF                  A1CF         10  50799409.0  50885675.0\n",
       "A2M                    A2M         12   9067664.0   9116229.0\n",
       "A2M-AS1            A2M-AS1         12   9065163.0   9068689.0\n",
       "...                    ...        ...         ...         ...\n",
       "ZZZ3                  ZZZ3          1  77562416.0  77683419.0\n",
       "bP-21264C1.2  bP-21264C1.2       None         NaN         NaN\n",
       "bP-2171C21.3  bP-2171C21.3       None         NaN         NaN\n",
       "bP-2189O9.3    bP-2189O9.3       None         NaN         NaN\n",
       "hsa-mir-1253  hsa-mir-1253         17   2748078.0   2748182.0\n",
       "\n",
       "[45068 rows x 4 columns]"
      ]
     },
     "execution_count": 34,
     "metadata": {},
     "output_type": "execute_result"
    }
   ],
   "source": [
    "adata6.var"
   ]
  },
  {
   "cell_type": "markdown",
   "id": "b353e8ff",
   "metadata": {},
   "source": [
    "# dataset 4"
   ]
  },
  {
   "cell_type": "code",
   "execution_count": 35,
   "id": "90ba761f",
   "metadata": {},
   "outputs": [
    {
     "name": "stdout",
     "output_type": "stream",
     "text": [
      "Loaded: ../data/num4_adata.h5ad\n"
     ]
    },
    {
     "data": {
      "text/html": [
       "<div>\n",
       "<style scoped>\n",
       "    .dataframe tbody tr th:only-of-type {\n",
       "        vertical-align: middle;\n",
       "    }\n",
       "\n",
       "    .dataframe tbody tr th {\n",
       "        vertical-align: top;\n",
       "    }\n",
       "\n",
       "    .dataframe thead th {\n",
       "        text-align: right;\n",
       "    }\n",
       "</style>\n",
       "<table border=\"1\" class=\"dataframe\">\n",
       "  <thead>\n",
       "    <tr style=\"text-align: right;\">\n",
       "      <th></th>\n",
       "      <th>gene_name</th>\n",
       "    </tr>\n",
       "  </thead>\n",
       "  <tbody>\n",
       "    <tr>\n",
       "      <th>GRCh38_MIR1302-2HG</th>\n",
       "      <td>GRCh38_MIR1302-2HG</td>\n",
       "    </tr>\n",
       "    <tr>\n",
       "      <th>GRCh38_FAM138A</th>\n",
       "      <td>GRCh38_FAM138A</td>\n",
       "    </tr>\n",
       "    <tr>\n",
       "      <th>GRCh38_OR4F5</th>\n",
       "      <td>GRCh38_OR4F5</td>\n",
       "    </tr>\n",
       "    <tr>\n",
       "      <th>GRCh38_AL627309.1</th>\n",
       "      <td>GRCh38_AL627309.1</td>\n",
       "    </tr>\n",
       "    <tr>\n",
       "      <th>GRCh38_AL627309.3</th>\n",
       "      <td>GRCh38_AL627309.3</td>\n",
       "    </tr>\n",
       "    <tr>\n",
       "      <th>...</th>\n",
       "      <td>...</td>\n",
       "    </tr>\n",
       "    <tr>\n",
       "      <th>mm10___AC124606.1</th>\n",
       "      <td>mm10___AC124606.1</td>\n",
       "    </tr>\n",
       "    <tr>\n",
       "      <th>mm10___AC133095.2</th>\n",
       "      <td>mm10___AC133095.2</td>\n",
       "    </tr>\n",
       "    <tr>\n",
       "      <th>mm10___AC133095.1</th>\n",
       "      <td>mm10___AC133095.1</td>\n",
       "    </tr>\n",
       "    <tr>\n",
       "      <th>mm10___AC234645.1</th>\n",
       "      <td>mm10___AC234645.1</td>\n",
       "    </tr>\n",
       "    <tr>\n",
       "      <th>mm10___AC149090.1</th>\n",
       "      <td>mm10___AC149090.1</td>\n",
       "    </tr>\n",
       "  </tbody>\n",
       "</table>\n",
       "<p>68886 rows × 1 columns</p>\n",
       "</div>"
      ],
      "text/plain": [
       "                             gene_name\n",
       "GRCh38_MIR1302-2HG  GRCh38_MIR1302-2HG\n",
       "GRCh38_FAM138A          GRCh38_FAM138A\n",
       "GRCh38_OR4F5              GRCh38_OR4F5\n",
       "GRCh38_AL627309.1    GRCh38_AL627309.1\n",
       "GRCh38_AL627309.3    GRCh38_AL627309.3\n",
       "...                                ...\n",
       "mm10___AC124606.1    mm10___AC124606.1\n",
       "mm10___AC133095.2    mm10___AC133095.2\n",
       "mm10___AC133095.1    mm10___AC133095.1\n",
       "mm10___AC234645.1    mm10___AC234645.1\n",
       "mm10___AC149090.1    mm10___AC149090.1\n",
       "\n",
       "[68886 rows x 1 columns]"
      ]
     },
     "execution_count": 35,
     "metadata": {},
     "output_type": "execute_result"
    }
   ],
   "source": [
    "num4_adata_path = \"../data/num4_adata.h5ad\"\n",
    "adata4 = sc.read_h5ad(num4_adata_path)\n",
    "print(f\"Loaded: {num4_adata_path}\")\n",
    "\n",
    "adata4.var['gene_name'] = adata4.var.index\n",
    "adata4.var\n"
   ]
  },
  {
   "cell_type": "code",
   "execution_count": null,
   "id": "930532a8",
   "metadata": {},
   "outputs": [
    {
     "name": "stderr",
     "output_type": "stream",
     "text": [
      "Input sequence provided is already in string format. No operation performed\n",
      "Input sequence provided is already in string format. No operation performed\n"
     ]
    },
    {
     "name": "stdout",
     "output_type": "stream",
     "text": [
      "Querying 68886 genes from mygene.info...\n"
     ]
    }
   ],
   "source": [
    "adata4 = fetch_gene_coordinates_via_mygene(adata4)\n",
    "print(adata4.var[['gene_name', 'chromosome', 'start', 'end']].head(10))\n",
    "print(\"Missing values:\", adata4.var[['chromosome', 'start', 'end']].isna().sum())\n"
   ]
  },
  {
   "cell_type": "code",
   "execution_count": 38,
   "id": "6c08bce6",
   "metadata": {},
   "outputs": [],
   "source": [
    "gtf_df = load_gtf_as_dataframe(\"gencode.v47.chr_patch_hapl_scaff.annotation.gtf\")"
   ]
  },
  {
   "cell_type": "code",
   "execution_count": 36,
   "id": "5130d97e",
   "metadata": {},
   "outputs": [
    {
     "ename": "KeyError",
     "evalue": "'chromosome_y'",
     "output_type": "error",
     "traceback": [
      "\u001b[31m---------------------------------------------------------------------------\u001b[39m",
      "\u001b[31mKeyError\u001b[39m                                  Traceback (most recent call last)",
      "\u001b[36mFile \u001b[39m\u001b[32m~/opt/miniconda3/envs/stem_cell/lib/python3.11/site-packages/pandas/core/indexes/base.py:3805\u001b[39m, in \u001b[36mIndex.get_loc\u001b[39m\u001b[34m(self, key)\u001b[39m\n\u001b[32m   3804\u001b[39m \u001b[38;5;28;01mtry\u001b[39;00m:\n\u001b[32m-> \u001b[39m\u001b[32m3805\u001b[39m     \u001b[38;5;28;01mreturn\u001b[39;00m \u001b[38;5;28;43mself\u001b[39;49m\u001b[43m.\u001b[49m\u001b[43m_engine\u001b[49m\u001b[43m.\u001b[49m\u001b[43mget_loc\u001b[49m\u001b[43m(\u001b[49m\u001b[43mcasted_key\u001b[49m\u001b[43m)\u001b[49m\n\u001b[32m   3806\u001b[39m \u001b[38;5;28;01mexcept\u001b[39;00m \u001b[38;5;167;01mKeyError\u001b[39;00m \u001b[38;5;28;01mas\u001b[39;00m err:\n",
      "\u001b[36mFile \u001b[39m\u001b[32mindex.pyx:167\u001b[39m, in \u001b[36mpandas._libs.index.IndexEngine.get_loc\u001b[39m\u001b[34m()\u001b[39m\n",
      "\u001b[36mFile \u001b[39m\u001b[32mindex.pyx:196\u001b[39m, in \u001b[36mpandas._libs.index.IndexEngine.get_loc\u001b[39m\u001b[34m()\u001b[39m\n",
      "\u001b[36mFile \u001b[39m\u001b[32mpandas/_libs/hashtable_class_helper.pxi:7081\u001b[39m, in \u001b[36mpandas._libs.hashtable.PyObjectHashTable.get_item\u001b[39m\u001b[34m()\u001b[39m\n",
      "\u001b[36mFile \u001b[39m\u001b[32mpandas/_libs/hashtable_class_helper.pxi:7089\u001b[39m, in \u001b[36mpandas._libs.hashtable.PyObjectHashTable.get_item\u001b[39m\u001b[34m()\u001b[39m\n",
      "\u001b[31mKeyError\u001b[39m: 'chromosome_y'",
      "\nThe above exception was the direct cause of the following exception:\n",
      "\u001b[31mKeyError\u001b[39m                                  Traceback (most recent call last)",
      "\u001b[36mCell\u001b[39m\u001b[36m \u001b[39m\u001b[32mIn[36]\u001b[39m\u001b[32m, line 16\u001b[39m\n\u001b[32m     13\u001b[39m merged = merged.loc[adata4.var.index]  \u001b[38;5;66;03m# ensure same order and rows\u001b[39;00m\n\u001b[32m     15\u001b[39m \u001b[38;5;66;03m# Step 5: Assign to adata4.var\u001b[39;00m\n\u001b[32m---> \u001b[39m\u001b[32m16\u001b[39m adata4.var[\u001b[33m'\u001b[39m\u001b[33mchromosome\u001b[39m\u001b[33m'\u001b[39m] = \u001b[43mmerged\u001b[49m\u001b[43m[\u001b[49m\u001b[33;43m'\u001b[39;49m\u001b[33;43mchromosome_y\u001b[39;49m\u001b[33;43m'\u001b[39;49m\u001b[43m]\u001b[49m.fillna(merged[\u001b[33m'\u001b[39m\u001b[33mchromosome_x\u001b[39m\u001b[33m'\u001b[39m])\n\u001b[32m     17\u001b[39m adata4.var[\u001b[33m'\u001b[39m\u001b[33mstart\u001b[39m\u001b[33m'\u001b[39m] = merged[\u001b[33m'\u001b[39m\u001b[33mstart_y\u001b[39m\u001b[33m'\u001b[39m].fillna(merged[\u001b[33m'\u001b[39m\u001b[33mstart_x\u001b[39m\u001b[33m'\u001b[39m])\n\u001b[32m     18\u001b[39m adata4.var[\u001b[33m'\u001b[39m\u001b[33mend\u001b[39m\u001b[33m'\u001b[39m] = merged[\u001b[33m'\u001b[39m\u001b[33mend_y\u001b[39m\u001b[33m'\u001b[39m].fillna(merged[\u001b[33m'\u001b[39m\u001b[33mend_x\u001b[39m\u001b[33m'\u001b[39m])\n",
      "\u001b[36mFile \u001b[39m\u001b[32m~/opt/miniconda3/envs/stem_cell/lib/python3.11/site-packages/pandas/core/frame.py:4102\u001b[39m, in \u001b[36mDataFrame.__getitem__\u001b[39m\u001b[34m(self, key)\u001b[39m\n\u001b[32m   4100\u001b[39m \u001b[38;5;28;01mif\u001b[39;00m \u001b[38;5;28mself\u001b[39m.columns.nlevels > \u001b[32m1\u001b[39m:\n\u001b[32m   4101\u001b[39m     \u001b[38;5;28;01mreturn\u001b[39;00m \u001b[38;5;28mself\u001b[39m._getitem_multilevel(key)\n\u001b[32m-> \u001b[39m\u001b[32m4102\u001b[39m indexer = \u001b[38;5;28;43mself\u001b[39;49m\u001b[43m.\u001b[49m\u001b[43mcolumns\u001b[49m\u001b[43m.\u001b[49m\u001b[43mget_loc\u001b[49m\u001b[43m(\u001b[49m\u001b[43mkey\u001b[49m\u001b[43m)\u001b[49m\n\u001b[32m   4103\u001b[39m \u001b[38;5;28;01mif\u001b[39;00m is_integer(indexer):\n\u001b[32m   4104\u001b[39m     indexer = [indexer]\n",
      "\u001b[36mFile \u001b[39m\u001b[32m~/opt/miniconda3/envs/stem_cell/lib/python3.11/site-packages/pandas/core/indexes/base.py:3812\u001b[39m, in \u001b[36mIndex.get_loc\u001b[39m\u001b[34m(self, key)\u001b[39m\n\u001b[32m   3807\u001b[39m     \u001b[38;5;28;01mif\u001b[39;00m \u001b[38;5;28misinstance\u001b[39m(casted_key, \u001b[38;5;28mslice\u001b[39m) \u001b[38;5;129;01mor\u001b[39;00m (\n\u001b[32m   3808\u001b[39m         \u001b[38;5;28misinstance\u001b[39m(casted_key, abc.Iterable)\n\u001b[32m   3809\u001b[39m         \u001b[38;5;129;01mand\u001b[39;00m \u001b[38;5;28many\u001b[39m(\u001b[38;5;28misinstance\u001b[39m(x, \u001b[38;5;28mslice\u001b[39m) \u001b[38;5;28;01mfor\u001b[39;00m x \u001b[38;5;129;01min\u001b[39;00m casted_key)\n\u001b[32m   3810\u001b[39m     ):\n\u001b[32m   3811\u001b[39m         \u001b[38;5;28;01mraise\u001b[39;00m InvalidIndexError(key)\n\u001b[32m-> \u001b[39m\u001b[32m3812\u001b[39m     \u001b[38;5;28;01mraise\u001b[39;00m \u001b[38;5;167;01mKeyError\u001b[39;00m(key) \u001b[38;5;28;01mfrom\u001b[39;00m\u001b[38;5;250m \u001b[39m\u001b[34;01merr\u001b[39;00m\n\u001b[32m   3813\u001b[39m \u001b[38;5;28;01mexcept\u001b[39;00m \u001b[38;5;167;01mTypeError\u001b[39;00m:\n\u001b[32m   3814\u001b[39m     \u001b[38;5;66;03m# If we have a listlike key, _check_indexing_error will raise\u001b[39;00m\n\u001b[32m   3815\u001b[39m     \u001b[38;5;66;03m#  InvalidIndexError. Otherwise we fall through and re-raise\u001b[39;00m\n\u001b[32m   3816\u001b[39m     \u001b[38;5;66;03m#  the TypeError.\u001b[39;00m\n\u001b[32m   3817\u001b[39m     \u001b[38;5;28mself\u001b[39m._check_indexing_error(key)\n",
      "\u001b[31mKeyError\u001b[39m: 'chromosome_y'"
     ]
    }
   ],
   "source": [
    "# Step 1: Copy and reset gene_name\n",
    "merged = adata4.var.copy()\n",
    "merged['gene_name'] = merged.index.astype(str)\n",
    "\n",
    "# Step 2: Merge with GTF\n",
    "merged = merged.merge(gtf_df, on='gene_name', how='left')\n",
    "\n",
    "# Step 3: Drop duplicates (if merge resulted in more rows)\n",
    "merged = merged.drop_duplicates(subset='gene_name', keep='first')\n",
    "\n",
    "# Step 4: Align merged index with adata4.var\n",
    "merged = merged.set_index('gene_name')\n",
    "merged = merged.loc[adata4.var.index]  # ensure same order and rows\n",
    "\n",
    "# Step 5: Assign to adata4.var\n",
    "adata4.var['chromosome'] = merged['chromosome_y'].fillna(merged['chromosome_x'])\n",
    "adata4.var['start'] = merged['start_y'].fillna(merged['start_x'])\n",
    "adata4.var['end'] = merged['end_y'].fillna(merged['end_x'])\n",
    "\n"
   ]
  },
  {
   "cell_type": "markdown",
   "id": "ff569949",
   "metadata": {},
   "source": [
    "# infer CNA"
   ]
  },
  {
   "cell_type": "code",
   "execution_count": 10,
   "id": "39622e47",
   "metadata": {},
   "outputs": [
    {
     "name": "stderr",
     "output_type": "stream",
     "text": [
      "/Users/apple/Documents/GitHub/CNA_tool/tests/../src/cna_tool/infer.py:80: FutureWarning: The default of observed=False is deprecated and will be changed to True in a future version of pandas. Pass observed=False to retain current behavior or observed=True to adopt the future default and silence this warning.\n",
      "  largest_group = adata.obs.groupby('cell_type').size().idxmax()\n"
     ]
    },
    {
     "name": "stdout",
     "output_type": "stream",
     "text": [
      "[info] No control mask provided. Using largest cluster ('CD4 T cell') as control.\n"
     ]
    },
    {
     "name": "stderr",
     "output_type": "stream",
     "text": [
      "/Users/apple/Documents/GitHub/CNA_tool/tests/../src/cna_tool/utils.py:155: FutureWarning: The default of observed=False is deprecated and will be changed to True in a future version of pandas. Pass observed=False to retain current behavior or observed=True to adopt the future default and silence this warning.\n",
      "  for chrom, sub in var.groupby('chromosome'):\n"
     ]
    }
   ],
   "source": [
    "adata = infer_cnas_from_scrna(adata)"
   ]
  },
  {
   "cell_type": "code",
   "execution_count": 11,
   "id": "4d3e591e",
   "metadata": {},
   "outputs": [
    {
     "data": {
      "text/html": [
       "<div>\n",
       "<style scoped>\n",
       "    .dataframe tbody tr th:only-of-type {\n",
       "        vertical-align: middle;\n",
       "    }\n",
       "\n",
       "    .dataframe tbody tr th {\n",
       "        vertical-align: top;\n",
       "    }\n",
       "\n",
       "    .dataframe thead th {\n",
       "        text-align: right;\n",
       "    }\n",
       "</style>\n",
       "<table border=\"1\" class=\"dataframe\">\n",
       "  <thead>\n",
       "    <tr style=\"text-align: right;\">\n",
       "      <th></th>\n",
       "      <th>sample</th>\n",
       "    </tr>\n",
       "  </thead>\n",
       "  <tbody>\n",
       "    <tr>\n",
       "      <th>AAACCTGAGAATTGTG-1_GSM3814885_day0</th>\n",
       "      <td>GSM3814885_day0</td>\n",
       "    </tr>\n",
       "    <tr>\n",
       "      <th>AAACCTGAGACAATAC-1_GSM3814885_day0</th>\n",
       "      <td>GSM3814885_day0</td>\n",
       "    </tr>\n",
       "    <tr>\n",
       "      <th>AAACCTGAGACTACAA-1_GSM3814885_day0</th>\n",
       "      <td>GSM3814885_day0</td>\n",
       "    </tr>\n",
       "    <tr>\n",
       "      <th>AAACCTGAGACTTTCG-1_GSM3814885_day0</th>\n",
       "      <td>GSM3814885_day0</td>\n",
       "    </tr>\n",
       "    <tr>\n",
       "      <th>AAACCTGAGGCGTACA-1_GSM3814885_day0</th>\n",
       "      <td>GSM3814885_day0</td>\n",
       "    </tr>\n",
       "    <tr>\n",
       "      <th>...</th>\n",
       "      <td>...</td>\n",
       "    </tr>\n",
       "    <tr>\n",
       "      <th>TTTGTCACACATCCAA-1_GSM3814900_huvec</th>\n",
       "      <td>GSM3814900_huvec</td>\n",
       "    </tr>\n",
       "    <tr>\n",
       "      <th>TTTGTCACATGCAACT-1_GSM3814900_huvec</th>\n",
       "      <td>GSM3814900_huvec</td>\n",
       "    </tr>\n",
       "    <tr>\n",
       "      <th>TTTGTCAGTTGATTGC-1_GSM3814900_huvec</th>\n",
       "      <td>GSM3814900_huvec</td>\n",
       "    </tr>\n",
       "    <tr>\n",
       "      <th>TTTGTCATCTAACTCT-1_GSM3814900_huvec</th>\n",
       "      <td>GSM3814900_huvec</td>\n",
       "    </tr>\n",
       "    <tr>\n",
       "      <th>TTTGTCATCTTTACAC-1_GSM3814900_huvec</th>\n",
       "      <td>GSM3814900_huvec</td>\n",
       "    </tr>\n",
       "  </tbody>\n",
       "</table>\n",
       "<p>105727 rows × 1 columns</p>\n",
       "</div>"
      ],
      "text/plain": [
       "                                               sample\n",
       "AAACCTGAGAATTGTG-1_GSM3814885_day0    GSM3814885_day0\n",
       "AAACCTGAGACAATAC-1_GSM3814885_day0    GSM3814885_day0\n",
       "AAACCTGAGACTACAA-1_GSM3814885_day0    GSM3814885_day0\n",
       "AAACCTGAGACTTTCG-1_GSM3814885_day0    GSM3814885_day0\n",
       "AAACCTGAGGCGTACA-1_GSM3814885_day0    GSM3814885_day0\n",
       "...                                               ...\n",
       "TTTGTCACACATCCAA-1_GSM3814900_huvec  GSM3814900_huvec\n",
       "TTTGTCACATGCAACT-1_GSM3814900_huvec  GSM3814900_huvec\n",
       "TTTGTCAGTTGATTGC-1_GSM3814900_huvec  GSM3814900_huvec\n",
       "TTTGTCATCTAACTCT-1_GSM3814900_huvec  GSM3814900_huvec\n",
       "TTTGTCATCTTTACAC-1_GSM3814900_huvec  GSM3814900_huvec\n",
       "\n",
       "[105727 rows x 1 columns]"
      ]
     },
     "execution_count": 11,
     "metadata": {},
     "output_type": "execute_result"
    }
   ],
   "source": [
    "adata6.obs"
   ]
  }
 ],
 "metadata": {
  "kernelspec": {
   "display_name": "stem_cell",
   "language": "python",
   "name": "python3"
  },
  "language_info": {
   "codemirror_mode": {
    "name": "ipython",
    "version": 3
   },
   "file_extension": ".py",
   "mimetype": "text/x-python",
   "name": "python",
   "nbconvert_exporter": "python",
   "pygments_lexer": "ipython3",
   "version": "3.11.11"
  }
 },
 "nbformat": 4,
 "nbformat_minor": 5
}
