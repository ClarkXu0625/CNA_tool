{
 "cells": [
  {
   "cell_type": "code",
   "execution_count": 3,
   "id": "0ea932c2",
   "metadata": {},
   "outputs": [
    {
     "name": "stdout",
     "output_type": "stream",
     "text": [
      "/home/clark/Documents/GitHub/CNA_tool/raw_data_extraction\n"
     ]
    }
   ],
   "source": [
    "! pwd"
   ]
  },
  {
   "cell_type": "code",
   "execution_count": 26,
   "id": "6224563b",
   "metadata": {},
   "outputs": [],
   "source": [
    "import scanpy as sc\n",
    "import pandas as pd\n",
    "from scipy.io import mmread\n",
    "from pathlib import Path\n",
    "from anndata import AnnData\n",
    "\n",
    "# Sample folders\n",
    "base = Path(\"../data/GSE194214_RAW\")\n",
    "samples = {\n",
    "    \"d1\": \"GSM5830919_somitoid_d1\",\n",
    "    \"d2\": \"GSM5830920_somitoid_d2\",\n",
    "    \"d3\": \"GSM5830921_somitoid_d3\",\n",
    "    \"d5\": \"GSM5830922_somitoid_d5\",\n",
    "}\n",
    "\n",
    "adatas = {}\n"
   ]
  },
  {
   "cell_type": "code",
   "execution_count": 27,
   "id": "0fadab8f",
   "metadata": {},
   "outputs": [],
   "source": [
    "for day, subdir in samples.items():\n",
    "    path = base / subdir\n",
    "    X = mmread(path / \"matrix.mtx\").T.tocsr()\n",
    "    var = pd.read_csv(path / \"features.tsv\", header=None, sep=\"\\t\")\n",
    "    obs = pd.read_csv(path / \"barcodes.tsv\", header=None, sep=\"\\t\")\n",
    "\n",
    "    adata = AnnData(X=X)\n",
    "    adata.var[\"gene_ids\"] = var[0].values\n",
    "    adata.var[\"gene_symbols\"] = var[1].values\n",
    "    # Ensure uniqueness by appending gene_id if needed\n",
    "    adata.var_names = pd.Index(adata.var[\"gene_symbols\"]).astype(str)\n",
    "    adata.var_names_make_unique()\n",
    "    \n",
    "    adata.obs_names = obs[0].values\n",
    "    adata.obs[\"day\"] = day\n",
    "\n",
    "    adatas[day] = adata\n"
   ]
  },
  {
   "cell_type": "code",
   "execution_count": 28,
   "id": "7204ec2b",
   "metadata": {},
   "outputs": [
    {
     "name": "stderr",
     "output_type": "stream",
     "text": [
      "/tmp/ipykernel_672348/469965187.py:1: FutureWarning: Use anndata.concat instead of AnnData.concatenate, AnnData.concatenate is deprecated and will be removed in the future. See the tutorial for concat at: https://anndata.readthedocs.io/en/latest/concatenation.html\n",
      "  adata_combined = adatas[\"d1\"].concatenate(\n"
     ]
    }
   ],
   "source": [
    "adata_combined = adatas[\"d1\"].concatenate(\n",
    "    adatas[\"d2\"], adatas[\"d3\"], adatas[\"d5\"],\n",
    "    batch_key=\"sample_day\",\n",
    "    batch_categories=[\"d1\", \"d2\", \"d3\", \"d5\"]\n",
    ")\n"
   ]
  },
  {
   "cell_type": "code",
   "execution_count": 29,
   "id": "3b5d9b43",
   "metadata": {},
   "outputs": [],
   "source": [
    "# Rename the 'gene_symbols' column to 'gene_name'\n",
    "adata_combined.var.rename(columns={'gene_symbols': 'gene_name'}, inplace=True)\n",
    "\n",
    "# # Unset the index name to avoid conflicts\n",
    "# adata_combined.var.index.name = None:contentReference[oaicite:13]{index=13}\n"
   ]
  },
  {
   "cell_type": "code",
   "execution_count": 31,
   "id": "29ab5462",
   "metadata": {},
   "outputs": [],
   "source": [
    "adata_combined.write(\"../data/num5_adata.h5ad\")"
   ]
  },
  {
   "cell_type": "code",
   "execution_count": 33,
   "id": "fc72ad03",
   "metadata": {},
   "outputs": [
    {
     "data": {
      "text/html": [
       "<div>\n",
       "<style scoped>\n",
       "    .dataframe tbody tr th:only-of-type {\n",
       "        vertical-align: middle;\n",
       "    }\n",
       "\n",
       "    .dataframe tbody tr th {\n",
       "        vertical-align: top;\n",
       "    }\n",
       "\n",
       "    .dataframe thead th {\n",
       "        text-align: right;\n",
       "    }\n",
       "</style>\n",
       "<table border=\"1\" class=\"dataframe\">\n",
       "  <thead>\n",
       "    <tr style=\"text-align: right;\">\n",
       "      <th></th>\n",
       "      <th>day</th>\n",
       "      <th>sample_day</th>\n",
       "    </tr>\n",
       "  </thead>\n",
       "  <tbody>\n",
       "    <tr>\n",
       "      <th>AAACGAATCATAGGCT-1-d1</th>\n",
       "      <td>d1</td>\n",
       "      <td>d1</td>\n",
       "    </tr>\n",
       "    <tr>\n",
       "      <th>AAACGAATCGCCATAA-1-d1</th>\n",
       "      <td>d1</td>\n",
       "      <td>d1</td>\n",
       "    </tr>\n",
       "    <tr>\n",
       "      <th>AAACGCTCACATGACT-1-d1</th>\n",
       "      <td>d1</td>\n",
       "      <td>d1</td>\n",
       "    </tr>\n",
       "    <tr>\n",
       "      <th>AAACGCTGTCGAGATG-1-d1</th>\n",
       "      <td>d1</td>\n",
       "      <td>d1</td>\n",
       "    </tr>\n",
       "    <tr>\n",
       "      <th>AAACGCTTCGGAGTGA-1-d1</th>\n",
       "      <td>d1</td>\n",
       "      <td>d1</td>\n",
       "    </tr>\n",
       "    <tr>\n",
       "      <th>...</th>\n",
       "      <td>...</td>\n",
       "      <td>...</td>\n",
       "    </tr>\n",
       "    <tr>\n",
       "      <th>TTTGTTGCACTGATTG-1-d5</th>\n",
       "      <td>d5</td>\n",
       "      <td>d5</td>\n",
       "    </tr>\n",
       "    <tr>\n",
       "      <th>TTTGTTGCATCGGATT-1-d5</th>\n",
       "      <td>d5</td>\n",
       "      <td>d5</td>\n",
       "    </tr>\n",
       "    <tr>\n",
       "      <th>TTTGTTGTCCAAACCA-1-d5</th>\n",
       "      <td>d5</td>\n",
       "      <td>d5</td>\n",
       "    </tr>\n",
       "    <tr>\n",
       "      <th>TTTGTTGTCCAGTACA-1-d5</th>\n",
       "      <td>d5</td>\n",
       "      <td>d5</td>\n",
       "    </tr>\n",
       "    <tr>\n",
       "      <th>TTTGTTGTCTAGTACG-1-d5</th>\n",
       "      <td>d5</td>\n",
       "      <td>d5</td>\n",
       "    </tr>\n",
       "  </tbody>\n",
       "</table>\n",
       "<p>18716 rows × 2 columns</p>\n",
       "</div>"
      ],
      "text/plain": [
       "                      day sample_day\n",
       "AAACGAATCATAGGCT-1-d1  d1         d1\n",
       "AAACGAATCGCCATAA-1-d1  d1         d1\n",
       "AAACGCTCACATGACT-1-d1  d1         d1\n",
       "AAACGCTGTCGAGATG-1-d1  d1         d1\n",
       "AAACGCTTCGGAGTGA-1-d1  d1         d1\n",
       "...                    ..        ...\n",
       "TTTGTTGCACTGATTG-1-d5  d5         d5\n",
       "TTTGTTGCATCGGATT-1-d5  d5         d5\n",
       "TTTGTTGTCCAAACCA-1-d5  d5         d5\n",
       "TTTGTTGTCCAGTACA-1-d5  d5         d5\n",
       "TTTGTTGTCTAGTACG-1-d5  d5         d5\n",
       "\n",
       "[18716 rows x 2 columns]"
      ]
     },
     "execution_count": 33,
     "metadata": {},
     "output_type": "execute_result"
    }
   ],
   "source": [
    "adata_combined.obs"
   ]
  }
 ],
 "metadata": {
  "kernelspec": {
   "display_name": "cscb",
   "language": "python",
   "name": "python3"
  },
  "language_info": {
   "codemirror_mode": {
    "name": "ipython",
    "version": 3
   },
   "file_extension": ".py",
   "mimetype": "text/x-python",
   "name": "python",
   "nbconvert_exporter": "python",
   "pygments_lexer": "ipython3",
   "version": "3.11.11"
  }
 },
 "nbformat": 4,
 "nbformat_minor": 5
}
